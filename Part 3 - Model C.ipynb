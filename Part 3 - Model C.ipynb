{
 "cells": [
  {
   "cell_type": "markdown",
   "metadata": {},
   "source": [
    "## <font color='lightblue'> <h1><b>Desafio  Final:</b> \"Análisis de la Demanda de Energía Eléctrica en Londres\"</h1> </font>\n",
    "## </h3> (A partir del datos suministrados por SmartMeters) </h3>\n",
    "<h3><blockquote>\n",
    "        <ul>\n",
    "          <li>Análisis de demanda y patrones de consumo </li>\n",
    "          <li>Identificación de features representativas del comportamiento de la demanda </li>\n",
    "          <li>Análisis de la demanda como serie de tiempo en modelos predictivos </li>\n",
    "        </ul>\n",
    "</blockquote>"
   ]
  },
  {
   "cell_type": "markdown",
   "metadata": {},
   "source": [
    "<img src=https://www.wannapik.com/media/W1siZiIsIjIwMTYvMDgvMjIvOW95M3V4MGdybF81dm5nNjJ6bmNrX2VudmkwMDI0LnBuZyJdXQ/60d70353518b92e1/5vng62znck_envi0024.png>"
   ]
  },
  {
   "cell_type": "markdown",
   "metadata": {},
   "source": [
    " <font color='lightgreen'> <h2><b>Grupo 5</b></h2> </font>\n",
    "<blockquote>\n",
    "        <ul>\n",
    "          <li>Panizza, Camila</li>\n",
    "          <li>Ron, Juan Ignacio</li>\n",
    "          <li>Sirai, Juan Bautista</li>\n",
    "        </ul>\n",
    "</blockquote>"
   ]
  },
  {
   "cell_type": "markdown",
   "metadata": {},
   "source": [
    "<a id=\"section_toc\"></a> \n",
    "##### <font color='lightgreen'> <h2><b> Contenidos</b></h2> </font>\n",
    "\n",
    "$\\hspace{.5cm}$[Introducción](#section_intro)\n",
    "\n",
    "[1. Carga de Librerías](#section_carga_librerias)\n",
    "\n",
    "[2. Carga de Datos](#section_carga_datasets)\n",
    "\n",
    "[3. Data Wrangling](#section_data_wrangling)\n",
    "\n",
    "[4. Selección de la muestra (block)](#section_carga_clientes)\n",
    "\n",
    "[5. Train-Test Split, normalización y encoding](#section_traintest)\n",
    "\n",
    "[6. Estimación de la demanda por hora](#section_ml)\n",
    "\n",
    "$\\hspace{1cm}$[6.3.7. CatBoost](#section_cat)\n",
    "\n",
    "$\\hspace{.5cm}$[6.5. Feature Importance](#section_featimp)\n",
    "\n",
    "[7. Uso del modelo para predecir nuevos datos](#section_amp)\n",
    "\n",
    "$\\hspace{.5cm}$[7.1. 'Block' al azar](#section_random)\n",
    "\n",
    "$\\hspace{.5cm}$[7.2. Evaluación del modelo sobre la totalidad de datos(#section_same)\n",
    "\n",
    "$\\hspace{.5cm}$[7.3. Comparativa](#section_compare)\n",
    "\n",
    "---"
   ]
  },
  {
   "cell_type": "markdown",
   "metadata": {},
   "source": [
    "<a id=\"section_intro\"></a> \n",
    "\n",
    "# <font color='skyblue'>Introducción </font>\n",
    "[Volver](#section_toc)\n",
    "\n",
    "## Descripción del problema.\n",
    "Trabajaremos sobre un Dataset de **consumo de energía eléctrica** de la ciudad de **Londes**.\n",
    "\n",
    "Para seguir mejor el consumo de energía, el gobierno de UK quiere que las empresas prestatarias del servicio eléctrico instalen **medidores inteligentes** en todos los hogares de Inglaterra, Gales y Escocia. El objetivo es que cada uno de los 26 millones de hogares, tenga instalado un Medidor Inteligente (indistintamente lo denominaremos como SmartMeter)\n",
    "\n",
    "Esta iniciativa, está enmarcada en un conjunto de acciones liderada por la **Union Europea** para hacer un uso más eficiente de energía y combatir el cambio climático.\n",
    "\n",
    "\n",
    "### HalfHourly Dataset\n",
    "En esta carpeta encontramos un archivo .csv para cada una de las 111 manzanas que fueron parte del estudio. Cada .cvs contiene los datos del consumo de cada suministro, registrados cada mdia hora, entre noviembre de 2011 y febrero 2014. Contamos con más de 5.000 suministros registrados.\n",
    "\n",
    "* ``LCLid``: Identificador único del punto de medición.\n",
    "* ``tstp``: día y hora de la medición.\n",
    "* ``energy``: consumo registrado.\n",
    "\n",
    "### Informations Households\n",
    "Contiene los datos específicos de cada suministro.\n",
    "\n",
    "* ``LCLid``: Identificador único del punto de medición.\n",
    "* ``day``: día de la medición.\n",
    "* ``stdor / ToU``: Tarifa estándar o por hora de uso (Time of Use).\n",
    "* ``Acorn``: Es una segmentación geodemográfica para residentes de UK. Clasifican cada codigo postal del país en 62 categorías, las cuales se pueden resumir en 18 grupos, que pueden a su vez englobarse dentro de 6 categorías mayores.\n",
    "* ``Acorn Grouped``: categoría mayor a la que corresponde cada Acorn.\n",
    "* ``file``: refiere al Block (o manzana) a la cual pertenece\n",
    "\n",
    "|Acorn Grouped|Acorn|Population (2013)| % Total|\n",
    "|-------------|-----|-----------------|--------|\n",
    "|Affluent Achievers|Lavish Lifestyles|820,947|1.3%|\n",
    "|           |Executive Wealth|7,788,972|12.1%|\n",
    "|           |Mature Money|5,663,939|8.8%|\n",
    "|Rising Prosperity| City Sophisticates|2,024,721|3.2%|\n",
    "|                 |Career Climbers|3,579,716|5.6%|\n",
    "|Comfortable Communities|Countryside Communities|4,160,615|6.5%|\n",
    "|                       |Successful Suburbs|3,844,002|6.0%|\n",
    "|                       |Steady Neighbourhoods|5,376,958|8.4%|\n",
    "|                       |Comfortable Seniors|1,645,668|2.6%|\n",
    "|                       |Starting Out|2,569,813|4.0%|\n",
    "|Financially Stretched|Student Life|1,550,112|2.4%|\n",
    "|                     |Modest Means|5,078,729|7.9%|\n",
    "|                     |Striving Families|5,564,601|8.7%|\n",
    "|                     |Poorer Pensioners|3,128,512|4.9%|\n",
    "|Urban Adversity|Young Hardship|3,222,867|5.0%|\n",
    "|               |Struggling Estates|4,730,766|7.4%|\n",
    "|               |Difficult Circumstances|2,962,375|4.6%|\n",
    "|Not Private Households|Not Private Households|550,486|0.9%|\n",
    "|``TOTAL``| |``64,263,799``|``100%``|\n",
    "\n",
    "### Weather Hourly (solo principales)\n",
    "Contiene información por día y hora de las principales variables climáticas.\n",
    "\n",
    "* ``temperaturelow/min/high/Max``: Temperatura\n",
    "* ``windBearing``: Dirección del viento.\n",
    "* ``dewPoint``: Concepto relacionado con humedad. Temperatura a la que se debe enfriar el aire para lograr una humedad del 100%\n",
    "* ``cloudCover``: Nubosidad\n",
    "* ``windSpeed``: Velocidad del viento\n",
    "* ``pressure``: Presion \n",
    "* ``apparentTemperatureHigh/low/max``: Sensación térmica\n",
    "* ``visibility``: Visibilidad\n",
    "* ``uvIndex``: indice UV\n",
    "* ``moonPhase``: Fase Lunar\n",
    "    \n",
    "### Campos de UK Bank Holidays\n",
    "* ``Bank holiday``: Fecha de feriado\n",
    "* ``type``:  Descripción de feriado.\n",
    "\n"
   ]
  },
  {
   "cell_type": "markdown",
   "metadata": {},
   "source": [
    "_____________________________________________"
   ]
  },
  {
   "cell_type": "markdown",
   "metadata": {},
   "source": [
    "<a id=\"section_carga_librerias\"></a> \n",
    "\n",
    "# <font color='skyblue'>1. Carga de Librerias</font>\n",
    "\n",
    "[Volver](#section_toc)"
   ]
  },
  {
   "cell_type": "code",
   "execution_count": 2,
   "metadata": {},
   "outputs": [],
   "source": [
    "import pandas as pd\n",
    "import numpy as np\n",
    "import datetime as dt\n",
    "import seaborn as sns\n",
    "import matplotlib.pyplot as plt\n",
    "\n",
    "from sklearn.preprocessing import StandardScaler, MinMaxScaler, OneHotEncoder\n",
    "from sklearn.impute import SimpleImputer\n",
    "from sklearn.feature_selection import RFE\n",
    "from sklearn.model_selection import train_test_split, StratifiedKFold, GridSearchCV, KFold\n",
    "from sklearn.metrics import mean_squared_error, mean_absolute_error, r2_score\n",
    "\n",
    "from sklearn.linear_model import LinearRegression, LassoCV, RidgeCV, ElasticNetCV\n",
    "from sklearn.neighbors import KNeighborsRegressor\n",
    "from sklearn.ensemble import BaggingRegressor, RandomForestRegressor, ExtraTreesRegressor, GradientBoostingRegressor, AdaBoostRegressor\n",
    "#!pip install lightgbm\n",
    "#!pip install catboost\n",
    "from lightgbm import LGBMRegressor\n",
    "from catboost import CatBoostRegressor\n",
    "\n",
    "import statsmodels.api as sm\n",
    "\n",
    "from scipy import stats\n",
    "from statistics import mode\n",
    "\n",
    "from sklearn.decomposition import PCA\n",
    "\n",
    "#!pip install lime\n",
    "from lime.lime_tabular import LimeTabularExplainer\n",
    "\n",
    "##########\n",
    "import warnings\n",
    "warnings.filterwarnings('ignore')"
   ]
  },
  {
   "cell_type": "markdown",
   "metadata": {},
   "source": [
    "_____________________________________________"
   ]
  },
  {
   "cell_type": "markdown",
   "metadata": {},
   "source": [
    "<a id=\"section_carga_datasets\"></a> \n",
    "\n",
    "# <font color='skyblue'>2. Carga de DataSets</font>\n",
    "\n",
    "[Volver](#section_toc)"
   ]
  },
  {
   "cell_type": "markdown",
   "metadata": {},
   "source": [
    "#### A continuación, realizaremos la carga del dataset que nos proporciona información relativa a cada suministro (o punto de medición)"
   ]
  },
  {
   "cell_type": "code",
   "execution_count": 3,
   "metadata": {},
   "outputs": [
    {
     "name": "stdout",
     "output_type": "stream",
     "text": [
      "\u001b[1;31mDataset Información Básica de cada Medidor\u001b[0m\n",
      "Shape inicial  (5566, 5)\n",
      "Valores nulos en el dataset: \n"
     ]
    },
    {
     "data": {
      "text/plain": [
       "LCLid            0\n",
       "stdorToU         0\n",
       "Acorn            0\n",
       "Acorn_grouped    0\n",
       "file             0\n",
       "dtype: int64"
      ]
     },
     "execution_count": 3,
     "metadata": {},
     "output_type": "execute_result"
    }
   ],
   "source": [
    "# Dataset de información por cada medidor\n",
    "info_df = pd.read_csv('data/informations_households.csv')\n",
    "print('\\x1b[1;31m' +'Dataset Información Básica de cada Medidor'+'\\x1b[0m')\n",
    "print('Shape inicial ', info_df.shape)\n",
    "print('Valores nulos en el dataset: ')\n",
    "info_df.isnull().sum()"
   ]
  },
  {
   "cell_type": "code",
   "execution_count": 4,
   "metadata": {},
   "outputs": [
    {
     "name": "stdout",
     "output_type": "stream",
     "text": [
      "\u001b[1;31mMuestra de los primeros 5 registros\u001b[0m\n"
     ]
    },
    {
     "data": {
      "text/html": [
       "<div>\n",
       "<style scoped>\n",
       "    .dataframe tbody tr th:only-of-type {\n",
       "        vertical-align: middle;\n",
       "    }\n",
       "\n",
       "    .dataframe tbody tr th {\n",
       "        vertical-align: top;\n",
       "    }\n",
       "\n",
       "    .dataframe thead th {\n",
       "        text-align: right;\n",
       "    }\n",
       "</style>\n",
       "<table border=\"1\" class=\"dataframe\">\n",
       "  <thead>\n",
       "    <tr style=\"text-align: right;\">\n",
       "      <th></th>\n",
       "      <th>LCLid</th>\n",
       "      <th>stdorToU</th>\n",
       "      <th>Acorn</th>\n",
       "      <th>Acorn_grouped</th>\n",
       "      <th>file</th>\n",
       "    </tr>\n",
       "  </thead>\n",
       "  <tbody>\n",
       "    <tr>\n",
       "      <th>681</th>\n",
       "      <td>MAC005331</td>\n",
       "      <td>Std</td>\n",
       "      <td>ACORN-E</td>\n",
       "      <td>Affluent</td>\n",
       "      <td>block_13</td>\n",
       "    </tr>\n",
       "    <tr>\n",
       "      <th>552</th>\n",
       "      <td>MAC005249</td>\n",
       "      <td>Std</td>\n",
       "      <td>ACORN-D</td>\n",
       "      <td>Affluent</td>\n",
       "      <td>block_11</td>\n",
       "    </tr>\n",
       "    <tr>\n",
       "      <th>373</th>\n",
       "      <td>MAC000741</td>\n",
       "      <td>Std</td>\n",
       "      <td>ACORN-D</td>\n",
       "      <td>Affluent</td>\n",
       "      <td>block_7</td>\n",
       "    </tr>\n",
       "    <tr>\n",
       "      <th>1953</th>\n",
       "      <td>MAC000443</td>\n",
       "      <td>Std</td>\n",
       "      <td>ACORN-E</td>\n",
       "      <td>Affluent</td>\n",
       "      <td>block_39</td>\n",
       "    </tr>\n",
       "    <tr>\n",
       "      <th>3498</th>\n",
       "      <td>MAC000452</td>\n",
       "      <td>Std</td>\n",
       "      <td>ACORN-H</td>\n",
       "      <td>Comfortable</td>\n",
       "      <td>block_69</td>\n",
       "    </tr>\n",
       "  </tbody>\n",
       "</table>\n",
       "</div>"
      ],
      "text/plain": [
       "          LCLid stdorToU    Acorn Acorn_grouped      file\n",
       "681   MAC005331      Std  ACORN-E      Affluent  block_13\n",
       "552   MAC005249      Std  ACORN-D      Affluent  block_11\n",
       "373   MAC000741      Std  ACORN-D      Affluent   block_7\n",
       "1953  MAC000443      Std  ACORN-E      Affluent  block_39\n",
       "3498  MAC000452      Std  ACORN-H   Comfortable  block_69"
      ]
     },
     "metadata": {},
     "output_type": "display_data"
    },
    {
     "name": "stdout",
     "output_type": "stream",
     "text": [
      "----------------------------------------------\n",
      "\u001b[1;31mTipo de datos del DataFrame\u001b[0m\n",
      "<class 'pandas.core.frame.DataFrame'>\n",
      "RangeIndex: 5566 entries, 0 to 5565\n",
      "Data columns (total 5 columns):\n",
      " #   Column         Non-Null Count  Dtype \n",
      "---  ------         --------------  ----- \n",
      " 0   LCLid          5566 non-null   object\n",
      " 1   stdorToU       5566 non-null   object\n",
      " 2   Acorn          5566 non-null   object\n",
      " 3   Acorn_grouped  5566 non-null   object\n",
      " 4   file           5566 non-null   object\n",
      "dtypes: object(5)\n",
      "memory usage: 217.5+ KB\n",
      "None\n"
     ]
    }
   ],
   "source": [
    "print('\\x1b[1;31m' +'Muestra de los primeros 5 registros'+'\\x1b[0m')\n",
    "display(info_df.sample(5))\n",
    "print('----------------------------------------------')\n",
    "print('\\x1b[1;31m' +'Tipo de datos del DataFrame'+'\\x1b[0m')\n",
    "print(info_df.info())"
   ]
  },
  {
   "cell_type": "markdown",
   "metadata": {},
   "source": [
    "#### Cargamos DataFrame con condiciones climáticas para el período de referencia"
   ]
  },
  {
   "cell_type": "code",
   "execution_count": 5,
   "metadata": {},
   "outputs": [
    {
     "name": "stdout",
     "output_type": "stream",
     "text": [
      "\u001b[1;31mDataset Temperaturas Diarias Londres\u001b[0m\n",
      "Shape inicial  (21165, 12)\n",
      "Valores nulos en el dataset: \n",
      "visibility              0\n",
      "windBearing             0\n",
      "temperature             0\n",
      "time                    0\n",
      "dewPoint                0\n",
      "pressure               13\n",
      "apparentTemperature     0\n",
      "windSpeed               0\n",
      "precipType              0\n",
      "icon                    0\n",
      "humidity                0\n",
      "summary                 0\n",
      "dtype: int64\n"
     ]
    }
   ],
   "source": [
    "# Dataset de climas\n",
    "weather= pd.read_csv('data/weather_hourly_darksky.csv')\n",
    "print('\\x1b[1;31m' +'Dataset Temperaturas Diarias Londres'+'\\x1b[0m')\n",
    "print('Shape inicial ', weather.shape)\n",
    "print('Valores nulos en el dataset: ')\n",
    "print(weather.isnull().sum())\n"
   ]
  },
  {
   "cell_type": "code",
   "execution_count": 6,
   "metadata": {},
   "outputs": [
    {
     "name": "stdout",
     "output_type": "stream",
     "text": [
      "\u001b[1;31mMuestra de los primeros 5 registros\u001b[0m\n"
     ]
    },
    {
     "data": {
      "text/html": [
       "<div>\n",
       "<style scoped>\n",
       "    .dataframe tbody tr th:only-of-type {\n",
       "        vertical-align: middle;\n",
       "    }\n",
       "\n",
       "    .dataframe tbody tr th {\n",
       "        vertical-align: top;\n",
       "    }\n",
       "\n",
       "    .dataframe thead th {\n",
       "        text-align: right;\n",
       "    }\n",
       "</style>\n",
       "<table border=\"1\" class=\"dataframe\">\n",
       "  <thead>\n",
       "    <tr style=\"text-align: right;\">\n",
       "      <th></th>\n",
       "      <th>visibility</th>\n",
       "      <th>windBearing</th>\n",
       "      <th>temperature</th>\n",
       "      <th>time</th>\n",
       "      <th>dewPoint</th>\n",
       "      <th>pressure</th>\n",
       "      <th>apparentTemperature</th>\n",
       "      <th>windSpeed</th>\n",
       "      <th>precipType</th>\n",
       "      <th>icon</th>\n",
       "      <th>humidity</th>\n",
       "      <th>summary</th>\n",
       "    </tr>\n",
       "  </thead>\n",
       "  <tbody>\n",
       "    <tr>\n",
       "      <th>0</th>\n",
       "      <td>5.97</td>\n",
       "      <td>104</td>\n",
       "      <td>10.24</td>\n",
       "      <td>2011-11-11 00:00:00</td>\n",
       "      <td>8.86</td>\n",
       "      <td>1016.76</td>\n",
       "      <td>10.24</td>\n",
       "      <td>2.77</td>\n",
       "      <td>rain</td>\n",
       "      <td>partly-cloudy-night</td>\n",
       "      <td>0.91</td>\n",
       "      <td>Partly Cloudy</td>\n",
       "    </tr>\n",
       "    <tr>\n",
       "      <th>1</th>\n",
       "      <td>4.88</td>\n",
       "      <td>99</td>\n",
       "      <td>9.76</td>\n",
       "      <td>2011-11-11 01:00:00</td>\n",
       "      <td>8.83</td>\n",
       "      <td>1016.63</td>\n",
       "      <td>8.24</td>\n",
       "      <td>2.95</td>\n",
       "      <td>rain</td>\n",
       "      <td>partly-cloudy-night</td>\n",
       "      <td>0.94</td>\n",
       "      <td>Partly Cloudy</td>\n",
       "    </tr>\n",
       "    <tr>\n",
       "      <th>2</th>\n",
       "      <td>3.70</td>\n",
       "      <td>98</td>\n",
       "      <td>9.46</td>\n",
       "      <td>2011-11-11 02:00:00</td>\n",
       "      <td>8.79</td>\n",
       "      <td>1016.36</td>\n",
       "      <td>7.76</td>\n",
       "      <td>3.17</td>\n",
       "      <td>rain</td>\n",
       "      <td>partly-cloudy-night</td>\n",
       "      <td>0.96</td>\n",
       "      <td>Partly Cloudy</td>\n",
       "    </tr>\n",
       "    <tr>\n",
       "      <th>3</th>\n",
       "      <td>3.12</td>\n",
       "      <td>99</td>\n",
       "      <td>9.23</td>\n",
       "      <td>2011-11-11 03:00:00</td>\n",
       "      <td>8.63</td>\n",
       "      <td>1016.28</td>\n",
       "      <td>7.44</td>\n",
       "      <td>3.25</td>\n",
       "      <td>rain</td>\n",
       "      <td>fog</td>\n",
       "      <td>0.96</td>\n",
       "      <td>Foggy</td>\n",
       "    </tr>\n",
       "    <tr>\n",
       "      <th>4</th>\n",
       "      <td>1.85</td>\n",
       "      <td>111</td>\n",
       "      <td>9.26</td>\n",
       "      <td>2011-11-11 04:00:00</td>\n",
       "      <td>9.21</td>\n",
       "      <td>1015.98</td>\n",
       "      <td>7.24</td>\n",
       "      <td>3.70</td>\n",
       "      <td>rain</td>\n",
       "      <td>fog</td>\n",
       "      <td>1.00</td>\n",
       "      <td>Foggy</td>\n",
       "    </tr>\n",
       "  </tbody>\n",
       "</table>\n",
       "</div>"
      ],
      "text/plain": [
       "   visibility  windBearing  temperature                 time  dewPoint  \\\n",
       "0        5.97          104        10.24  2011-11-11 00:00:00      8.86   \n",
       "1        4.88           99         9.76  2011-11-11 01:00:00      8.83   \n",
       "2        3.70           98         9.46  2011-11-11 02:00:00      8.79   \n",
       "3        3.12           99         9.23  2011-11-11 03:00:00      8.63   \n",
       "4        1.85          111         9.26  2011-11-11 04:00:00      9.21   \n",
       "\n",
       "   pressure  apparentTemperature  windSpeed precipType                 icon  \\\n",
       "0   1016.76                10.24       2.77       rain  partly-cloudy-night   \n",
       "1   1016.63                 8.24       2.95       rain  partly-cloudy-night   \n",
       "2   1016.36                 7.76       3.17       rain  partly-cloudy-night   \n",
       "3   1016.28                 7.44       3.25       rain                  fog   \n",
       "4   1015.98                 7.24       3.70       rain                  fog   \n",
       "\n",
       "   humidity        summary  \n",
       "0      0.91  Partly Cloudy  \n",
       "1      0.94  Partly Cloudy  \n",
       "2      0.96  Partly Cloudy  \n",
       "3      0.96          Foggy  \n",
       "4      1.00          Foggy  "
      ]
     },
     "metadata": {},
     "output_type": "display_data"
    },
    {
     "name": "stdout",
     "output_type": "stream",
     "text": [
      "------------------------------------------------------------\n",
      "\u001b[1;31mTipo de datos\u001b[0m\n",
      "<class 'pandas.core.frame.DataFrame'>\n",
      "RangeIndex: 21165 entries, 0 to 21164\n",
      "Data columns (total 12 columns):\n",
      " #   Column               Non-Null Count  Dtype  \n",
      "---  ------               --------------  -----  \n",
      " 0   visibility           21165 non-null  float64\n",
      " 1   windBearing          21165 non-null  int64  \n",
      " 2   temperature          21165 non-null  float64\n",
      " 3   time                 21165 non-null  object \n",
      " 4   dewPoint             21165 non-null  float64\n",
      " 5   pressure             21152 non-null  float64\n",
      " 6   apparentTemperature  21165 non-null  float64\n",
      " 7   windSpeed            21165 non-null  float64\n",
      " 8   precipType           21165 non-null  object \n",
      " 9   icon                 21165 non-null  object \n",
      " 10  humidity             21165 non-null  float64\n",
      " 11  summary              21165 non-null  object \n",
      "dtypes: float64(7), int64(1), object(4)\n",
      "memory usage: 1.9+ MB\n",
      "None\n"
     ]
    }
   ],
   "source": [
    "print('\\x1b[1;31m' +'Muestra de los primeros 5 registros'+'\\x1b[0m')\n",
    "display(weather.head(5))\n",
    "print('------------------------------------------------------------')\n",
    "print('\\x1b[1;31m' +'Tipo de datos'+'\\x1b[0m')\n",
    "print(weather.info())"
   ]
  },
  {
   "cell_type": "markdown",
   "metadata": {},
   "source": [
    "#### Cargamos DataFrame con los feriados bancarios para el período de referencia"
   ]
  },
  {
   "cell_type": "code",
   "execution_count": 7,
   "metadata": {},
   "outputs": [
    {
     "name": "stdout",
     "output_type": "stream",
     "text": [
      "\u001b[1;31mDataset Feriados UK\u001b[0m\n",
      "Shape inicial  (25, 2)\n",
      "Valores nulos en el dataset: \n"
     ]
    },
    {
     "data": {
      "text/plain": [
       "Bank holidays    0\n",
       "Type             0\n",
       "dtype: int64"
      ]
     },
     "execution_count": 7,
     "metadata": {},
     "output_type": "execute_result"
    }
   ],
   "source": [
    "# Dataset de feriados bancarios\n",
    "\n",
    "holidays= pd.read_csv('data/uk_bank_holidays.csv')\n",
    "print('\\x1b[1;31m' +'Dataset Feriados UK'+'\\x1b[0m')\n",
    "print('Shape inicial ', holidays.shape)\n",
    "print('Valores nulos en el dataset: ')\n",
    "holidays.isnull().sum()"
   ]
  },
  {
   "cell_type": "code",
   "execution_count": 8,
   "metadata": {},
   "outputs": [
    {
     "name": "stdout",
     "output_type": "stream",
     "text": [
      "\u001b[1;31mMuestra de los primeros 5 registros\u001b[0m\n"
     ]
    },
    {
     "data": {
      "text/html": [
       "<div>\n",
       "<style scoped>\n",
       "    .dataframe tbody tr th:only-of-type {\n",
       "        vertical-align: middle;\n",
       "    }\n",
       "\n",
       "    .dataframe tbody tr th {\n",
       "        vertical-align: top;\n",
       "    }\n",
       "\n",
       "    .dataframe thead th {\n",
       "        text-align: right;\n",
       "    }\n",
       "</style>\n",
       "<table border=\"1\" class=\"dataframe\">\n",
       "  <thead>\n",
       "    <tr style=\"text-align: right;\">\n",
       "      <th></th>\n",
       "      <th>Bank holidays</th>\n",
       "      <th>Type</th>\n",
       "    </tr>\n",
       "  </thead>\n",
       "  <tbody>\n",
       "    <tr>\n",
       "      <th>0</th>\n",
       "      <td>2012-12-26</td>\n",
       "      <td>Boxing Day</td>\n",
       "    </tr>\n",
       "    <tr>\n",
       "      <th>1</th>\n",
       "      <td>2012-12-25</td>\n",
       "      <td>Christmas Day</td>\n",
       "    </tr>\n",
       "    <tr>\n",
       "      <th>2</th>\n",
       "      <td>2012-08-27</td>\n",
       "      <td>Summer bank holiday</td>\n",
       "    </tr>\n",
       "    <tr>\n",
       "      <th>3</th>\n",
       "      <td>2012-05-06</td>\n",
       "      <td>Queen?s Diamond Jubilee (extra bank holiday)</td>\n",
       "    </tr>\n",
       "    <tr>\n",
       "      <th>4</th>\n",
       "      <td>2012-04-06</td>\n",
       "      <td>Spring bank holiday (substitute day)</td>\n",
       "    </tr>\n",
       "  </tbody>\n",
       "</table>\n",
       "</div>"
      ],
      "text/plain": [
       "  Bank holidays                                          Type\n",
       "0    2012-12-26                                    Boxing Day\n",
       "1    2012-12-25                                 Christmas Day\n",
       "2    2012-08-27                           Summer bank holiday\n",
       "3    2012-05-06  Queen?s Diamond Jubilee (extra bank holiday)\n",
       "4    2012-04-06          Spring bank holiday (substitute day)"
      ]
     },
     "metadata": {},
     "output_type": "display_data"
    },
    {
     "name": "stdout",
     "output_type": "stream",
     "text": [
      "------------------------------------------------------------\n",
      "\u001b[1;31mTipo de datos\u001b[0m\n",
      "<class 'pandas.core.frame.DataFrame'>\n",
      "RangeIndex: 25 entries, 0 to 24\n",
      "Data columns (total 2 columns):\n",
      " #   Column         Non-Null Count  Dtype \n",
      "---  ------         --------------  ----- \n",
      " 0   Bank holidays  25 non-null     object\n",
      " 1   Type           25 non-null     object\n",
      "dtypes: object(2)\n",
      "memory usage: 528.0+ bytes\n",
      "None\n"
     ]
    }
   ],
   "source": [
    "print('\\x1b[1;31m' +'Muestra de los primeros 5 registros'+'\\x1b[0m')\n",
    "display(holidays.head(5))\n",
    "print('------------------------------------------------------------')\n",
    "print('\\x1b[1;31m' +'Tipo de datos'+'\\x1b[0m')\n",
    "print(holidays.info())"
   ]
  },
  {
   "cell_type": "markdown",
   "metadata": {},
   "source": [
    "_____________________________________________"
   ]
  },
  {
   "cell_type": "markdown",
   "metadata": {},
   "source": [
    "<a id=\"section_data_wrangling\"></a> \n",
    "# <font color='lightblue'>3. Data Wrangling </font>\n",
    "[Volver](#section_toc)"
   ]
  },
  {
   "cell_type": "markdown",
   "metadata": {},
   "source": [
    "### Transformaciones sobre DF Weather"
   ]
  },
  {
   "cell_type": "code",
   "execution_count": 9,
   "metadata": {},
   "outputs": [],
   "source": [
    "#Convertimos variables a formato DateTime\n",
    "\n",
    "weather['full_datetime']=  pd.to_datetime(weather['time'])"
   ]
  },
  {
   "cell_type": "code",
   "execution_count": 10,
   "metadata": {},
   "outputs": [],
   "source": [
    "#Agregamos variables de fecha y hora\n",
    "weather['date'] = weather['full_datetime'].dt.date\n",
    "weather['year'] = weather['full_datetime'].dt.year\n",
    "weather['month'] = weather['full_datetime'].dt.month\n",
    "weather['week'] = weather['full_datetime'].dt.week\n",
    "weather['day_name'] = weather['full_datetime'].dt.day_name()\n",
    "weather['time'] = weather['full_datetime'].dt.time\n",
    "weather['hour'] = weather['full_datetime'].dt.hour\n",
    "weather['minute'] = weather['full_datetime'].dt.minute"
   ]
  },
  {
   "cell_type": "code",
   "execution_count": 11,
   "metadata": {},
   "outputs": [],
   "source": [
    "# Me quedo con las variables más interesantes y completo los NA con Bfill (tener en cuenta que era 1 registro faltante en enero de 2014, de nubosidad)\n",
    "weather = weather.sort_values(by = 'full_datetime', ascending = True)\n",
    "weather = weather.fillna(axis=0, method='bfill')"
   ]
  },
  {
   "cell_type": "markdown",
   "metadata": {},
   "source": [
    "### Transformaciones sobre INFO clientes"
   ]
  },
  {
   "cell_type": "code",
   "execution_count": 12,
   "metadata": {},
   "outputs": [
    {
     "data": {
      "text/html": [
       "<div>\n",
       "<style scoped>\n",
       "    .dataframe tbody tr th:only-of-type {\n",
       "        vertical-align: middle;\n",
       "    }\n",
       "\n",
       "    .dataframe tbody tr th {\n",
       "        vertical-align: top;\n",
       "    }\n",
       "\n",
       "    .dataframe thead th {\n",
       "        text-align: right;\n",
       "    }\n",
       "</style>\n",
       "<table border=\"1\" class=\"dataframe\">\n",
       "  <thead>\n",
       "    <tr style=\"text-align: right;\">\n",
       "      <th></th>\n",
       "      <th>LCLid</th>\n",
       "      <th>stdorToU</th>\n",
       "      <th>Acorn</th>\n",
       "      <th>Acorn_grouped</th>\n",
       "      <th>block</th>\n",
       "    </tr>\n",
       "  </thead>\n",
       "  <tbody>\n",
       "    <tr>\n",
       "      <th>3596</th>\n",
       "      <td>MAC003361</td>\n",
       "      <td>Std</td>\n",
       "      <td>ACORN-J</td>\n",
       "      <td>Comfortable</td>\n",
       "      <td>block_71</td>\n",
       "    </tr>\n",
       "    <tr>\n",
       "      <th>324</th>\n",
       "      <td>MAC002201</td>\n",
       "      <td>ToU</td>\n",
       "      <td>ACORN-C</td>\n",
       "      <td>Affluent</td>\n",
       "      <td>block_6</td>\n",
       "    </tr>\n",
       "    <tr>\n",
       "      <th>785</th>\n",
       "      <td>MAC002504</td>\n",
       "      <td>Std</td>\n",
       "      <td>ACORN-E</td>\n",
       "      <td>Affluent</td>\n",
       "      <td>block_15</td>\n",
       "    </tr>\n",
       "    <tr>\n",
       "      <th>422</th>\n",
       "      <td>MAC004888</td>\n",
       "      <td>Std</td>\n",
       "      <td>ACORN-D</td>\n",
       "      <td>Affluent</td>\n",
       "      <td>block_8</td>\n",
       "    </tr>\n",
       "    <tr>\n",
       "      <th>5478</th>\n",
       "      <td>MAC000292</td>\n",
       "      <td>ToU</td>\n",
       "      <td>ACORN-Q</td>\n",
       "      <td>Adversity</td>\n",
       "      <td>block_109</td>\n",
       "    </tr>\n",
       "  </tbody>\n",
       "</table>\n",
       "</div>"
      ],
      "text/plain": [
       "          LCLid stdorToU    Acorn Acorn_grouped      block\n",
       "3596  MAC003361      Std  ACORN-J   Comfortable   block_71\n",
       "324   MAC002201      ToU  ACORN-C      Affluent    block_6\n",
       "785   MAC002504      Std  ACORN-E      Affluent   block_15\n",
       "422   MAC004888      Std  ACORN-D      Affluent    block_8\n",
       "5478  MAC000292      ToU  ACORN-Q     Adversity  block_109"
      ]
     },
     "execution_count": 12,
     "metadata": {},
     "output_type": "execute_result"
    }
   ],
   "source": [
    "# En el df de datos del cliente, cambiamos el nombre a la columna 'file' por 'block', por ser potencialmente útil para los modelos\n",
    "\n",
    "info_df = info_df.rename(columns = {'file' : 'block'})\n",
    "info_df.sample(5)"
   ]
  },
  {
   "cell_type": "code",
   "execution_count": 13,
   "metadata": {},
   "outputs": [
    {
     "data": {
      "text/plain": [
       "MAC005492    1\n",
       "MAC001074    1\n",
       "Name: LCLid, dtype: int64"
      ]
     },
     "execution_count": 13,
     "metadata": {},
     "output_type": "execute_result"
    }
   ],
   "source": [
    "# Vemos que hay solo dos Medidores con Acorn-. Suponemos que es un error de tipeo. Por no tener mayor certeza a cual corresponde, los excluiremos del análisis\n",
    "info_df.loc[info_df['Acorn']=='ACORN-',\"LCLid\"].value_counts()"
   ]
  },
  {
   "cell_type": "code",
   "execution_count": 14,
   "metadata": {},
   "outputs": [
    {
     "data": {
      "text/plain": [
       "ACORN-E    1567\n",
       "ACORN-Q     831\n",
       "ACORN-F     684\n",
       "ACORN-H     455\n",
       "ACORN-L     342\n",
       "ACORN-D     292\n",
       "ACORN-G     205\n",
       "ACORN-K     165\n",
       "ACORN-A     157\n",
       "ACORN-N     152\n",
       "ACORN-C     151\n",
       "ACORN-M     113\n",
       "ACORN-J     112\n",
       "ACORN-P     110\n",
       "ACORN-O     103\n",
       "ACORN-I      51\n",
       "ACORN-U      49\n",
       "ACORN-B      25\n",
       "Name: Acorn, dtype: int64"
      ]
     },
     "execution_count": 14,
     "metadata": {},
     "output_type": "execute_result"
    }
   ],
   "source": [
    "#Nos quedamos con los registros que no pertenecen a Acorn-\n",
    "info_df = info_df.loc[(info_df['LCLid']!='MAC005492') & (info_df['LCLid']!='MAC001074')]\n",
    "info_df.Acorn.value_counts()"
   ]
  },
  {
   "cell_type": "code",
   "execution_count": 15,
   "metadata": {},
   "outputs": [],
   "source": [
    "# Modificamos la columna 'Acorn_grouped' para que coincida con la escala real (la que viene fue creada por quien compiló los dfs)\n",
    "\n",
    "affluent_mask = (info_df['Acorn'] == 'ACORN-A') | (info_df['Acorn'] == 'ACORN-B') | (info_df['Acorn'] == 'ACORN-C')\n",
    "rising_mask = (info_df['Acorn'] == 'ACORN-D') | (info_df['Acorn'] == 'ACORN-E')\n",
    "confortable_mask = (info_df['Acorn'] == 'ACORN-F') | (info_df['Acorn'] == 'ACORN-G') | (info_df['Acorn'] == 'ACORN-H') | (info_df['Acorn'] == 'ACORN-I') | (info_df['Acorn'] == 'ACORN-J')\n",
    "streched_mask = (info_df['Acorn'] == 'ACORN-K') | (info_df['Acorn'] == 'ACORN-L') | (info_df['Acorn'] == 'ACORN-M') | (info_df['Acorn'] == 'ACORN-N')\n",
    "adversity_mask = (info_df['Acorn'] == 'ACORN-O') | (info_df['Acorn'] == 'ACORN-P') | (info_df['Acorn'] == 'ACORN-Q')\n",
    "household_mask = (info_df['Acorn'] == 'ACORN-U')"
   ]
  },
  {
   "cell_type": "code",
   "execution_count": 16,
   "metadata": {},
   "outputs": [],
   "source": [
    "info_df.loc[affluent_mask,'Acorn_grouped'] = 'Affluent'\n",
    "info_df.loc[rising_mask,'Acorn_grouped'] = 'Rising'\n",
    "info_df.loc[confortable_mask,'Acorn_grouped'] = 'Comfortable'\n",
    "info_df.loc[streched_mask,'Acorn_grouped'] = 'Stretched'\n",
    "info_df.loc[adversity_mask,'Acorn_grouped'] = 'Adversity'\n",
    "info_df.loc[household_mask ,'Acorn_grouped'] = 'NP_Household'"
   ]
  },
  {
   "cell_type": "markdown",
   "metadata": {},
   "source": [
    "### Transformaciones sobre Holidays Dataset"
   ]
  },
  {
   "cell_type": "code",
   "execution_count": 17,
   "metadata": {},
   "outputs": [],
   "source": [
    "# Pasamos la columna 'Bank holidays' a formato fecha y la seteamos como índice\n",
    "\n",
    "holidays['full_datetime']=  pd.to_datetime(holidays['Bank holidays'])\n",
    "holidays['date'] = holidays['full_datetime'].dt.date"
   ]
  },
  {
   "cell_type": "markdown",
   "metadata": {},
   "source": [
    "_____________________________________________"
   ]
  },
  {
   "cell_type": "markdown",
   "metadata": {},
   "source": [
    "<a id=\"section_carga_clientes\"></a> \n",
    "\n",
    "# <font color='skyblue'>4. Selección de la muestra (block)</font>\n",
    "\n",
    "[Volver](#section_toc)"
   ]
  },
  {
   "cell_type": "markdown",
   "metadata": {},
   "source": [
    "### Selección aleatoria de los blocks para modelar"
   ]
  },
  {
   "cell_type": "markdown",
   "metadata": {},
   "source": [
    "Para realizar un análisis representativo de la población, tomaremos aleatoriamente tres blocks para cada clúster de consumo."
   ]
  },
  {
   "cell_type": "code",
   "execution_count": 18,
   "metadata": {},
   "outputs": [
    {
     "data": {
      "text/plain": [
       "array(['block_0', 'block_3', 'block_5', 'block_10', 'block_16',\n",
       "       'block_53', 'block_58', 'block_65', 'block_70', 'block_72',\n",
       "       'block_74', 'block_82', 'block_85', 'block_88', 'block_91',\n",
       "       'block_91', 'block_97', 'block_110'], dtype=object)"
      ]
     },
     "execution_count": 18,
     "metadata": {},
     "output_type": "execute_result"
    }
   ],
   "source": [
    "blocks_list = pd.read_csv('catboost_model/samples/block_list_exp2_4.csv')\n",
    "blocks = blocks_list['0'].values\n",
    "blocks"
   ]
  },
  {
   "cell_type": "code",
   "execution_count": 19,
   "metadata": {},
   "outputs": [
    {
     "name": "stdout",
     "output_type": "stream",
     "text": [
      "Lectura del block block_0 completa\n",
      "Lectura del block block_3 completa\n",
      "Lectura del block block_5 completa\n",
      "Lectura del block block_10 completa\n",
      "Lectura del block block_16 completa\n",
      "Lectura del block block_53 completa\n",
      "Lectura del block block_58 completa\n",
      "Lectura del block block_65 completa\n",
      "Lectura del block block_70 completa\n",
      "Lectura del block block_72 completa\n",
      "Lectura del block block_74 completa\n",
      "Lectura del block block_82 completa\n",
      "Lectura del block block_85 completa\n",
      "Lectura del block block_88 completa\n",
      "Lectura del block block_91 completa\n",
      "Lectura del block block_91 completa\n",
      "Lectura del block block_97 completa\n",
      "Lectura del block block_110 completa\n"
     ]
    }
   ],
   "source": [
    "full_data = []\n",
    "\n",
    "for i in blocks:\n",
    "    data_location = 'data/halfhourly_dataset/halfhourly_dataset/%s.csv' % (i)\n",
    "    block_data = pd.read_csv(data_location)\n",
    "    full_data.append(block_data)\n",
    "    print('Lectura del block %s completa' % (i))\n",
    "    \n",
    "full_df = pd.concat(full_data, axis = 0)"
   ]
  },
  {
   "cell_type": "code",
   "execution_count": 20,
   "metadata": {},
   "outputs": [
    {
     "data": {
      "text/html": [
       "<div>\n",
       "<style scoped>\n",
       "    .dataframe tbody tr th:only-of-type {\n",
       "        vertical-align: middle;\n",
       "    }\n",
       "\n",
       "    .dataframe tbody tr th {\n",
       "        vertical-align: top;\n",
       "    }\n",
       "\n",
       "    .dataframe thead th {\n",
       "        text-align: right;\n",
       "    }\n",
       "</style>\n",
       "<table border=\"1\" class=\"dataframe\">\n",
       "  <thead>\n",
       "    <tr style=\"text-align: right;\">\n",
       "      <th></th>\n",
       "      <th>LCLid</th>\n",
       "      <th>tstp</th>\n",
       "      <th>energy(kWh/hh)</th>\n",
       "    </tr>\n",
       "  </thead>\n",
       "  <tbody>\n",
       "    <tr>\n",
       "      <th>0</th>\n",
       "      <td>MAC000002</td>\n",
       "      <td>2012-10-12 00:30:00.0000000</td>\n",
       "      <td>0</td>\n",
       "    </tr>\n",
       "    <tr>\n",
       "      <th>1</th>\n",
       "      <td>MAC000002</td>\n",
       "      <td>2012-10-12 01:00:00.0000000</td>\n",
       "      <td>0</td>\n",
       "    </tr>\n",
       "    <tr>\n",
       "      <th>2</th>\n",
       "      <td>MAC000002</td>\n",
       "      <td>2012-10-12 01:30:00.0000000</td>\n",
       "      <td>0</td>\n",
       "    </tr>\n",
       "    <tr>\n",
       "      <th>3</th>\n",
       "      <td>MAC000002</td>\n",
       "      <td>2012-10-12 02:00:00.0000000</td>\n",
       "      <td>0</td>\n",
       "    </tr>\n",
       "    <tr>\n",
       "      <th>4</th>\n",
       "      <td>MAC000002</td>\n",
       "      <td>2012-10-12 02:30:00.0000000</td>\n",
       "      <td>0</td>\n",
       "    </tr>\n",
       "  </tbody>\n",
       "</table>\n",
       "</div>"
      ],
      "text/plain": [
       "       LCLid                         tstp energy(kWh/hh)\n",
       "0  MAC000002  2012-10-12 00:30:00.0000000             0 \n",
       "1  MAC000002  2012-10-12 01:00:00.0000000             0 \n",
       "2  MAC000002  2012-10-12 01:30:00.0000000             0 \n",
       "3  MAC000002  2012-10-12 02:00:00.0000000             0 \n",
       "4  MAC000002  2012-10-12 02:30:00.0000000             0 "
      ]
     },
     "execution_count": 20,
     "metadata": {},
     "output_type": "execute_result"
    }
   ],
   "source": [
    "full_df.head()"
   ]
  },
  {
   "cell_type": "code",
   "execution_count": 20,
   "metadata": {},
   "outputs": [],
   "source": [
    "block_data = full_df"
   ]
  },
  {
   "cell_type": "markdown",
   "metadata": {},
   "source": [
    "### Transformaciones sobre el dataset específico del block y merge con los datasets de clima e info de clientes"
   ]
  },
  {
   "cell_type": "code",
   "execution_count": 21,
   "metadata": {},
   "outputs": [],
   "source": [
    "## Realizamos las transformaciones necesarias para operar con el campo 'energy'.\n",
    "\n",
    "block_data['energy(kWh/hh)'] = block_data['energy(kWh/hh)'].replace(to_replace = 'Null', value = 0)\n",
    "block_data['energy(kWh/hh)'] = block_data['energy(kWh/hh)'].astype('float64')\n",
    "\n",
    "## Transformamos la columna 'tstp' a datetime y generamos nuevas columnas relacionadas a la fecha\n",
    "\n",
    "block_data['full_datetime'] = pd.to_datetime(block_data['tstp'])\n",
    "block_data['date'] = block_data['full_datetime'].dt.date\n",
    "block_data['year'] = block_data['full_datetime'].dt.year\n",
    "block_data['month'] = block_data['full_datetime'].dt.month\n",
    "block_data['week'] = block_data['full_datetime'].dt.week\n",
    "block_data['day_name'] = block_data['full_datetime'].dt.day_name()\n",
    "block_data['time'] = block_data['full_datetime'].dt.time\n",
    "block_data['hour'] = block_data['full_datetime'].dt.hour\n",
    "\n",
    "## Agrupamos la información para que quede en energía por hora (los .csv tiene registros cada media hora)\n",
    "\n",
    "block_data_hourly = block_data.groupby(['LCLid', 'date', 'year', 'month', 'week', 'day_name', 'hour'])['energy(kWh/hh)'].sum()\n",
    "block_data_hourly = block_data_hourly.reset_index()\n",
    "\n",
    "## Unimos el dataset sobre consumo de energía con los datos específicos de cada suministro\n",
    "\n",
    "df_block = block_data_hourly.merge(info_df, on = 'LCLid', how = 'left')\n",
    "\n",
    "## Unimos el dataset resultante con el que contiene variables climáticas\n",
    "\n",
    "df_block_full = df_block.merge(weather, on = ['date', 'hour'], how = 'left')\n",
    "\n",
    "## Unimos el dataset resultante con el listado de feriados, creando una dummie ('is_holiday') con valor 1 para los feriados.\n",
    "\n",
    "df_block_full['is_holiday'] = df_block_full['full_datetime'].isin(holidays['full_datetime'])\n",
    "\n",
    "## Limpiamos el resultado final, completando faltantes de clima y eliminando columnas redundantes\n",
    "\n",
    "df_block_full = df_block_full.sort_values(by = ['LCLid', 'date', 'year_x', 'month_x', 'week_x', 'day_name_x', 'hour'], ascending = True)\n",
    "df_block_full = df_block_full.fillna(axis = 0, method = 'bfill')\n",
    "df_block_full = df_block_full.drop(columns = ['date', 'full_datetime', 'year_y', 'month_y', 'week_y', 'day_name_y', 'minute', 'time', 'icon'])\n",
    "df_block_full = df_block_full.rename(mapper = {'energy(kWh/hh)' : 'energy', 'year_x' : 'year', 'month_x' : 'month', 'week_x' : 'week', 'day_name_x' : 'day_name'}, axis = 1)\n",
    "df_block_full['year'] = df_block_full['year'].astype('object')\n",
    "df_block_full['month'] = df_block_full['month'].astype('object')\n",
    "df_block_full['week'] = df_block_full['week'].astype('object')\n",
    "df_block_full['hour'] = df_block_full['hour'].astype('object')\n",
    "\n",
    "## Recortamos el análisis para el período posterior a 2012, cuando la cantidad de mediciones por cliente se estabilizó\n",
    "\n",
    "year_mask = df_block_full['year'] >= 2013\n",
    "df_block_full = df_block_full[year_mask]"
   ]
  },
  {
   "cell_type": "code",
   "execution_count": 22,
   "metadata": {},
   "outputs": [],
   "source": [
    "## A partir del dataset mergeado con todos los datos, obtenemos el consumo total del bloque a partir de un groupby\n",
    "## sin perder el resto de las variables incorporadas. Descartamos las variables propias de cliente al tratarse de\n",
    "## una muestra 'homogénea'.\n",
    "\n",
    "df_block_summary = df_block_full.groupby(['Acorn', 'block', 'year', 'month', 'week', 'day_name', 'hour',\n",
    "                                          'visibility','windBearing',\n",
    "                                          'temperature', 'dewPoint', 'pressure', 'apparentTemperature',\n",
    "                                          'windSpeed', 'precipType', 'humidity', 'summary', 'is_holiday'])['energy'].sum()\n",
    "df_block_summary = df_block_summary.reset_index()\n",
    "df_block_summary = df_block_summary.drop(columns = 'block')\n",
    "df_block_summary['is_holiday'] = df_block_summary['is_holiday'].astype('category')"
   ]
  },
  {
   "cell_type": "code",
   "execution_count": 23,
   "metadata": {},
   "outputs": [
    {
     "data": {
      "text/html": [
       "<div>\n",
       "<style scoped>\n",
       "    .dataframe tbody tr th:only-of-type {\n",
       "        vertical-align: middle;\n",
       "    }\n",
       "\n",
       "    .dataframe tbody tr th {\n",
       "        vertical-align: top;\n",
       "    }\n",
       "\n",
       "    .dataframe thead th {\n",
       "        text-align: right;\n",
       "    }\n",
       "</style>\n",
       "<table border=\"1\" class=\"dataframe\">\n",
       "  <thead>\n",
       "    <tr style=\"text-align: right;\">\n",
       "      <th></th>\n",
       "      <th>Acorn</th>\n",
       "      <th>year</th>\n",
       "      <th>month</th>\n",
       "      <th>week</th>\n",
       "      <th>day_name</th>\n",
       "      <th>hour</th>\n",
       "      <th>visibility</th>\n",
       "      <th>windBearing</th>\n",
       "      <th>temperature</th>\n",
       "      <th>dewPoint</th>\n",
       "      <th>pressure</th>\n",
       "      <th>apparentTemperature</th>\n",
       "      <th>windSpeed</th>\n",
       "      <th>precipType</th>\n",
       "      <th>humidity</th>\n",
       "      <th>summary</th>\n",
       "      <th>is_holiday</th>\n",
       "      <th>energy</th>\n",
       "    </tr>\n",
       "  </thead>\n",
       "  <tbody>\n",
       "    <tr>\n",
       "      <th>0</th>\n",
       "      <td>ACORN-A</td>\n",
       "      <td>2013</td>\n",
       "      <td>1</td>\n",
       "      <td>1</td>\n",
       "      <td>Friday</td>\n",
       "      <td>0</td>\n",
       "      <td>13.33</td>\n",
       "      <td>255.0</td>\n",
       "      <td>10.79</td>\n",
       "      <td>8.64</td>\n",
       "      <td>1036.97</td>\n",
       "      <td>10.79</td>\n",
       "      <td>4.76</td>\n",
       "      <td>rain</td>\n",
       "      <td>0.87</td>\n",
       "      <td>Mostly Cloudy</td>\n",
       "      <td>True</td>\n",
       "      <td>32.168</td>\n",
       "    </tr>\n",
       "    <tr>\n",
       "      <th>1</th>\n",
       "      <td>ACORN-A</td>\n",
       "      <td>2013</td>\n",
       "      <td>1</td>\n",
       "      <td>1</td>\n",
       "      <td>Friday</td>\n",
       "      <td>1</td>\n",
       "      <td>13.50</td>\n",
       "      <td>257.0</td>\n",
       "      <td>10.28</td>\n",
       "      <td>8.24</td>\n",
       "      <td>1036.82</td>\n",
       "      <td>10.28</td>\n",
       "      <td>4.75</td>\n",
       "      <td>rain</td>\n",
       "      <td>0.87</td>\n",
       "      <td>Overcast</td>\n",
       "      <td>False</td>\n",
       "      <td>26.806</td>\n",
       "    </tr>\n",
       "    <tr>\n",
       "      <th>2</th>\n",
       "      <td>ACORN-A</td>\n",
       "      <td>2013</td>\n",
       "      <td>1</td>\n",
       "      <td>1</td>\n",
       "      <td>Friday</td>\n",
       "      <td>2</td>\n",
       "      <td>13.45</td>\n",
       "      <td>260.0</td>\n",
       "      <td>10.20</td>\n",
       "      <td>8.10</td>\n",
       "      <td>1036.95</td>\n",
       "      <td>10.20</td>\n",
       "      <td>4.41</td>\n",
       "      <td>rain</td>\n",
       "      <td>0.87</td>\n",
       "      <td>Overcast</td>\n",
       "      <td>False</td>\n",
       "      <td>22.888</td>\n",
       "    </tr>\n",
       "    <tr>\n",
       "      <th>3</th>\n",
       "      <td>ACORN-A</td>\n",
       "      <td>2013</td>\n",
       "      <td>1</td>\n",
       "      <td>1</td>\n",
       "      <td>Friday</td>\n",
       "      <td>3</td>\n",
       "      <td>13.50</td>\n",
       "      <td>261.0</td>\n",
       "      <td>9.82</td>\n",
       "      <td>7.67</td>\n",
       "      <td>1037.02</td>\n",
       "      <td>7.54</td>\n",
       "      <td>4.56</td>\n",
       "      <td>rain</td>\n",
       "      <td>0.86</td>\n",
       "      <td>Overcast</td>\n",
       "      <td>False</td>\n",
       "      <td>23.553</td>\n",
       "    </tr>\n",
       "    <tr>\n",
       "      <th>4</th>\n",
       "      <td>ACORN-A</td>\n",
       "      <td>2013</td>\n",
       "      <td>1</td>\n",
       "      <td>1</td>\n",
       "      <td>Friday</td>\n",
       "      <td>4</td>\n",
       "      <td>14.00</td>\n",
       "      <td>262.0</td>\n",
       "      <td>9.76</td>\n",
       "      <td>7.61</td>\n",
       "      <td>1037.03</td>\n",
       "      <td>7.29</td>\n",
       "      <td>4.97</td>\n",
       "      <td>rain</td>\n",
       "      <td>0.86</td>\n",
       "      <td>Overcast</td>\n",
       "      <td>False</td>\n",
       "      <td>24.286</td>\n",
       "    </tr>\n",
       "  </tbody>\n",
       "</table>\n",
       "</div>"
      ],
      "text/plain": [
       "     Acorn  year  month  week day_name  hour  visibility  windBearing  \\\n",
       "0  ACORN-A  2013      1     1   Friday     0       13.33        255.0   \n",
       "1  ACORN-A  2013      1     1   Friday     1       13.50        257.0   \n",
       "2  ACORN-A  2013      1     1   Friday     2       13.45        260.0   \n",
       "3  ACORN-A  2013      1     1   Friday     3       13.50        261.0   \n",
       "4  ACORN-A  2013      1     1   Friday     4       14.00        262.0   \n",
       "\n",
       "   temperature  dewPoint  pressure  apparentTemperature  windSpeed precipType  \\\n",
       "0        10.79      8.64   1036.97                10.79       4.76       rain   \n",
       "1        10.28      8.24   1036.82                10.28       4.75       rain   \n",
       "2        10.20      8.10   1036.95                10.20       4.41       rain   \n",
       "3         9.82      7.67   1037.02                 7.54       4.56       rain   \n",
       "4         9.76      7.61   1037.03                 7.29       4.97       rain   \n",
       "\n",
       "   humidity        summary is_holiday  energy  \n",
       "0      0.87  Mostly Cloudy       True  32.168  \n",
       "1      0.87       Overcast      False  26.806  \n",
       "2      0.87       Overcast      False  22.888  \n",
       "3      0.86       Overcast      False  23.553  \n",
       "4      0.86       Overcast      False  24.286  "
      ]
     },
     "execution_count": 23,
     "metadata": {},
     "output_type": "execute_result"
    }
   ],
   "source": [
    "df_block_summary.head(5)"
   ]
  },
  {
   "cell_type": "markdown",
   "metadata": {},
   "source": [
    "_____________________________________________"
   ]
  },
  {
   "cell_type": "markdown",
   "metadata": {},
   "source": [
    "<a id=\"section_traintest\"></a> \n",
    "\n",
    "# <font color='skyblue'>5. Train-Test Split, normalización y encoding</font>\n",
    "\n",
    "[Volver](#section_toc)"
   ]
  },
  {
   "cell_type": "markdown",
   "metadata": {},
   "source": [
    "### Train-Test Split"
   ]
  },
  {
   "cell_type": "code",
   "execution_count": 24,
   "metadata": {},
   "outputs": [],
   "source": [
    "## Dividimos el dataset entre features y variable target\n",
    "\n",
    "X = df_block_summary.drop(columns = 'energy')\n",
    "y = df_block_summary['energy']"
   ]
  },
  {
   "cell_type": "code",
   "execution_count": 25,
   "metadata": {},
   "outputs": [],
   "source": [
    "X_train, X_test, y_train, y_test = train_test_split(X, y, shuffle = True, test_size = .3, random_state = 1423)"
   ]
  },
  {
   "cell_type": "markdown",
   "metadata": {},
   "source": [
    "### Normalización y encoding"
   ]
  },
  {
   "cell_type": "code",
   "execution_count": 26,
   "metadata": {},
   "outputs": [],
   "source": [
    "## Separamos features categóricas y numéricas, para su tratamiento por separado\n",
    "\n",
    "categorical = ['Acorn', 'year', 'month', 'week', 'day_name', 'hour', 'summary', 'precipType', 'is_holiday']\n",
    "numerical = ['visibility', 'windBearing', 'temperature', 'dewPoint', 'pressure',\n",
    "             'apparentTemperature', 'windSpeed', 'humidity']"
   ]
  },
  {
   "cell_type": "code",
   "execution_count": 27,
   "metadata": {},
   "outputs": [
    {
     "data": {
      "text/plain": [
       "[array(['ACORN-A', 'ACORN-P', 'ACORN-C', 'ACORN-J', 'ACORN-Q', 'ACORN-G',\n",
       "        'ACORN-E', 'ACORN-U', 'ACORN-K', 'ACORN-M', 'ACORN-F', 'ACORN-L',\n",
       "        'ACORN-O', 'ACORN-D', 'ACORN-H', 'ACORN-N', 'ACORN-B', 'ACORN-I'],\n",
       "       dtype=object),\n",
       " array([2013, 2014], dtype=object),\n",
       " array([1, 2, 3, 4, 5, 6, 7, 8, 9, 10, 11, 12], dtype=object),\n",
       " array([1, 2, 3, 4, 5, 6, 7, 8, 9, 10, 11, 12, 13, 14, 15, 16, 17, 18, 19,\n",
       "        20, 21, 22, 23, 24, 25, 26, 27, 28, 29, 30, 31, 32, 33, 34, 35, 36,\n",
       "        37, 38, 39, 40, 41, 42, 43, 44, 45, 46, 47, 48, 49, 50, 51, 52],\n",
       "       dtype=object),\n",
       " array(['Tuesday', 'Wednesday', 'Thursday', 'Friday', 'Saturday', 'Sunday',\n",
       "        'Monday'], dtype=object),\n",
       " array([0, 1, 2, 3, 4, 5, 6, 7, 8, 9, 10, 11, 12, 13, 14, 15, 16, 17, 18,\n",
       "        19, 20, 21, 22, 23], dtype=object),\n",
       " array(['Partly Cloudy', 'Mostly Cloudy', 'Clear', 'Overcast', 'Foggy',\n",
       "        'Breezy and Mostly Cloudy', 'Breezy', 'Breezy and Partly Cloudy',\n",
       "        'Breezy and Overcast', 'Windy', 'Windy and Mostly Cloudy',\n",
       "        'Windy and Overcast'], dtype=object),\n",
       " array(['rain', 'snow'], dtype=object),\n",
       " array([ True, False])]"
      ]
     },
     "execution_count": 27,
     "metadata": {},
     "output_type": "execute_result"
    }
   ],
   "source": [
    "categories = []\n",
    "\n",
    "for col in categorical:\n",
    "    cat = df_block_full[col].unique()\n",
    "    categories.append(cat)\n",
    "\n",
    "categories"
   ]
  },
  {
   "cell_type": "code",
   "execution_count": 28,
   "metadata": {},
   "outputs": [],
   "source": [
    "X_train_categorical = X_train[categorical]\n",
    "X_test_categorical = X_test[categorical]\n",
    "\n",
    "encoder = OneHotEncoder(categories = categories, sparse = False, drop = 'first')\n",
    "X_train_categorical = pd.DataFrame(encoder.fit_transform(X_train_categorical), columns = encoder.get_feature_names(categorical))\n",
    "X_test_categorical = pd.DataFrame(encoder.transform(X_test_categorical), columns = encoder.get_feature_names(categorical))"
   ]
  },
  {
   "cell_type": "code",
   "execution_count": 29,
   "metadata": {},
   "outputs": [],
   "source": [
    "X_train_numerical = X_train[numerical]\n",
    "X_test_numerical = X_test[numerical]\n",
    "\n",
    "scaler = StandardScaler()\n",
    "X_train_numerical = pd.DataFrame(scaler.fit_transform(X_train_numerical), columns = X_train_numerical.columns)\n",
    "X_test_numerical = pd.DataFrame(scaler.transform(X_test_numerical), columns = X_test_numerical.columns)"
   ]
  },
  {
   "cell_type": "code",
   "execution_count": 30,
   "metadata": {},
   "outputs": [
    {
     "data": {
      "text/plain": [
       "((163463, 130), (163463, 122), (163463, 8))"
      ]
     },
     "execution_count": 30,
     "metadata": {},
     "output_type": "execute_result"
    }
   ],
   "source": [
    "X_train = pd.concat([X_train_categorical, X_train_numerical], axis = 1)\n",
    "X_train.shape, X_train_categorical.shape, X_train_numerical.shape"
   ]
  },
  {
   "cell_type": "code",
   "execution_count": 31,
   "metadata": {},
   "outputs": [
    {
     "data": {
      "text/plain": [
       "((70056, 130), (70056, 122), (70056, 8))"
      ]
     },
     "execution_count": 31,
     "metadata": {},
     "output_type": "execute_result"
    }
   ],
   "source": [
    "X_test = pd.concat([X_test_categorical, X_test_numerical], axis = 1)\n",
    "X_test.shape, X_test_categorical.shape, X_test_numerical.shape"
   ]
  },
  {
   "cell_type": "markdown",
   "metadata": {},
   "source": [
    "_____________________________________________"
   ]
  },
  {
   "cell_type": "markdown",
   "metadata": {},
   "source": [
    "<a id=\"section_ml\"></a> \n",
    "\n",
    "# <font color='skyblue'>6. Estimación de la demanda por hora</font>\n",
    "\n",
    "[Volver](#section_toc)"
   ]
  },
  {
   "cell_type": "markdown",
   "metadata": {},
   "source": [
    "A continuación evaluaremos distintos modelos de aprendizaje supervisado para la estimación de la demanda de energía por hora. Para ello definiremos dos funciones que simplifiquen la implementación: una para analizar la performance (en testeo y en validación) y otra para gráficar los valores predichos con respecto a los reales."
   ]
  },
  {
   "cell_type": "code",
   "execution_count": 32,
   "metadata": {},
   "outputs": [],
   "source": [
    "def model_evaluation(y_test, y_pred):\n",
    "    mae = mean_absolute_error(y_test, y_pred)\n",
    "    mse = mean_squared_error(y_test, y_pred)\n",
    "    rmse = np.sqrt(mean_squared_error(y_test, y_pred))\n",
    "    r2 = r2_score(y_test, y_pred)\n",
    "    print('MAE: ', mae)\n",
    "    print('MSE: ', mse)\n",
    "    print('RMSE: ', rmse)\n",
    "    print('R^2: ', r2)"
   ]
  },
  {
   "cell_type": "code",
   "execution_count": 33,
   "metadata": {},
   "outputs": [],
   "source": [
    "def model_graph(y_pred, y_test, model_name):\n",
    "    plt.plot(y,y, '-.',c='grey')\n",
    "    plt.scatter(y_pred, y_test, s=30, c='r', marker='+', zorder=10)\n",
    "    plt.xlabel(\"Predicciones\", fontsize = 10)\n",
    "    plt.ylabel(\"Valores reales\", fontsize = 10)\n",
    "    plt.title('{}'.format(model_name), fontsize = 15)\n",
    "    plt.show()\n",
    "    \n",
    "    error = y_test - y_pred\n",
    "    plt.hist(error, bins = 100)\n",
    "    plt.xlabel(\"Magnitud del error\", fontsize = 10)\n",
    "    plt.ylabel(\"Frecuencia del error\", fontsize = 10)\n",
    "    plt.axvline(error.mean(), color='k', linestyle='dashed', linewidth=1)\n",
    "    plt.xlim([-30,30])\n",
    "    plt.title('Distribución de los errores - {}'.format(model_name), fontsize = 15)\n",
    "    plt.show()"
   ]
  },
  {
   "cell_type": "markdown",
   "metadata": {},
   "source": [
    "______"
   ]
  },
  {
   "cell_type": "markdown",
   "metadata": {},
   "source": [
    "<a id=\"section_trees\"></a> \n",
    "\n",
    "### 6.3. Modelos de árbol\n",
    "\n",
    "[Volver](#section_toc)"
   ]
  },
  {
   "cell_type": "markdown",
   "metadata": {},
   "source": [
    "<a id=\"section_cat\"></a> \n",
    "#### 6.3.7. <u>CatBoost\n",
    "\n",
    "[Volver](#section_toc)"
   ]
  },
  {
   "cell_type": "code",
   "execution_count": 34,
   "metadata": {},
   "outputs": [],
   "source": [
    "cat = CatBoostRegressor(verbose = 0)\n",
    "cat.fit(X_train, y_train)\n",
    "cat_training_predictions = cat.predict(X_train)"
   ]
  },
  {
   "cell_type": "code",
   "execution_count": 35,
   "metadata": {},
   "outputs": [
    {
     "name": "stdout",
     "output_type": "stream",
     "text": [
      "MAE:  5.008237716925751\n",
      "MSE:  57.782528198354484\n",
      "RMSE:  7.601481973822899\n",
      "R^2:  0.5463525659963805\n"
     ]
    }
   ],
   "source": [
    "model_evaluation(y_train, cat_training_predictions)"
   ]
  },
  {
   "cell_type": "code",
   "execution_count": 36,
   "metadata": {},
   "outputs": [],
   "source": [
    "cat_testing_predictions = cat.predict(X_test)"
   ]
  },
  {
   "cell_type": "code",
   "execution_count": 37,
   "metadata": {},
   "outputs": [
    {
     "name": "stdout",
     "output_type": "stream",
     "text": [
      "MAE:  5.1136630382129225\n",
      "MSE:  59.625014477139096\n",
      "RMSE:  7.7217235431695626\n",
      "R^2:  0.5278178923305223\n"
     ]
    }
   ],
   "source": [
    "model_evaluation(y_test, cat_testing_predictions)"
   ]
  },
  {
   "cell_type": "code",
   "execution_count": 38,
   "metadata": {},
   "outputs": [
    {
     "data": {
      "image/png": "[encoded data removed]",
      "text/plain": [
       "<Figure size 432x288 with 1 Axes>"
      ]
     },
     "metadata": {
      "needs_background": "light"
     },
     "output_type": "display_data"
    },
    {
     "data": {
      "image/png": "[encoded data removed]",
      "text/plain": [
       "<Figure size 432x288 with 1 Axes>"
      ]
     },
     "metadata": {
      "needs_background": "light"
     },
     "output_type": "display_data"
    }
   ],
   "source": [
    "model_graph(y_test, cat_testing_predictions, 'CatBoost')"
   ]
  },
  {
   "cell_type": "markdown",
   "metadata": {},
   "source": [
    "_____________________________________________"
   ]
  },
  {
   "cell_type": "markdown",
   "metadata": {},
   "source": [
    "<a id=\"section_featimp\"></a> \n",
    "### 6.5. Feature Importance\n",
    "\n",
    "[Volver](#section_toc)"
   ]
  },
  {
   "cell_type": "markdown",
   "metadata": {},
   "source": [
    "Tomamos de referencia el modelo de mejor performance en set de entrenamiento"
   ]
  },
  {
   "cell_type": "code",
   "execution_count": 39,
   "metadata": {},
   "outputs": [
    {
     "data": {
      "text/html": [
       "<div>\n",
       "<style scoped>\n",
       "    .dataframe tbody tr th:only-of-type {\n",
       "        vertical-align: middle;\n",
       "    }\n",
       "\n",
       "    .dataframe tbody tr th {\n",
       "        vertical-align: top;\n",
       "    }\n",
       "\n",
       "    .dataframe thead th {\n",
       "        text-align: right;\n",
       "    }\n",
       "</style>\n",
       "<table border=\"1\" class=\"dataframe\">\n",
       "  <thead>\n",
       "    <tr style=\"text-align: right;\">\n",
       "      <th></th>\n",
       "      <th>importances</th>\n",
       "    </tr>\n",
       "  </thead>\n",
       "  <tbody>\n",
       "    <tr>\n",
       "      <th>Acorn_ACORN-I</th>\n",
       "      <td>10.946340</td>\n",
       "    </tr>\n",
       "    <tr>\n",
       "      <th>Acorn_ACORN-Q</th>\n",
       "      <td>7.737191</td>\n",
       "    </tr>\n",
       "    <tr>\n",
       "      <th>Acorn_ACORN-J</th>\n",
       "      <td>6.983238</td>\n",
       "    </tr>\n",
       "    <tr>\n",
       "      <th>summary_Clear</th>\n",
       "      <td>5.633819</td>\n",
       "    </tr>\n",
       "    <tr>\n",
       "      <th>hour_19</th>\n",
       "      <td>4.844256</td>\n",
       "    </tr>\n",
       "    <tr>\n",
       "      <th>Acorn_ACORN-D</th>\n",
       "      <td>4.697861</td>\n",
       "    </tr>\n",
       "    <tr>\n",
       "      <th>hour_20</th>\n",
       "      <td>4.689405</td>\n",
       "    </tr>\n",
       "    <tr>\n",
       "      <th>Acorn_ACORN-P</th>\n",
       "      <td>4.501489</td>\n",
       "    </tr>\n",
       "    <tr>\n",
       "      <th>hour_18</th>\n",
       "      <td>4.443905</td>\n",
       "    </tr>\n",
       "    <tr>\n",
       "      <th>temperature</th>\n",
       "      <td>3.901701</td>\n",
       "    </tr>\n",
       "    <tr>\n",
       "      <th>hour_21</th>\n",
       "      <td>3.472173</td>\n",
       "    </tr>\n",
       "    <tr>\n",
       "      <th>apparentTemperature</th>\n",
       "      <td>3.038560</td>\n",
       "    </tr>\n",
       "    <tr>\n",
       "      <th>hour_3</th>\n",
       "      <td>2.807221</td>\n",
       "    </tr>\n",
       "    <tr>\n",
       "      <th>hour_4</th>\n",
       "      <td>2.784714</td>\n",
       "    </tr>\n",
       "    <tr>\n",
       "      <th>Acorn_ACORN-B</th>\n",
       "      <td>2.497476</td>\n",
       "    </tr>\n",
       "  </tbody>\n",
       "</table>\n",
       "</div>"
      ],
      "text/plain": [
       "                     importances\n",
       "Acorn_ACORN-I          10.946340\n",
       "Acorn_ACORN-Q           7.737191\n",
       "Acorn_ACORN-J           6.983238\n",
       "summary_Clear           5.633819\n",
       "hour_19                 4.844256\n",
       "Acorn_ACORN-D           4.697861\n",
       "hour_20                 4.689405\n",
       "Acorn_ACORN-P           4.501489\n",
       "hour_18                 4.443905\n",
       "temperature             3.901701\n",
       "hour_21                 3.472173\n",
       "apparentTemperature     3.038560\n",
       "hour_3                  2.807221\n",
       "hour_4                  2.784714\n",
       "Acorn_ACORN-B           2.497476"
      ]
     },
     "execution_count": 39,
     "metadata": {},
     "output_type": "execute_result"
    },
    {
     "data": {
      "image/png": "[encoded data removed]",
      "text/plain": [
       "<Figure size 720x504 with 1 Axes>"
      ]
     },
     "metadata": {
      "needs_background": "light"
     },
     "output_type": "display_data"
    }
   ],
   "source": [
    "importancias = pd.DataFrame({'importances' : cat.feature_importances_})\n",
    "\n",
    "feature_names = X_train.columns[importancias.index]\n",
    "importancias.index = feature_names\n",
    "importancias = importancias.sort_values(by = 'importances', ascending = False)\n",
    "\n",
    "top_20_importances = importancias.iloc[0:15, :]\n",
    "plt.figure(figsize = [10, 7])\n",
    "plt.bar(height = top_20_importances['importances'], x = top_20_importances.index)\n",
    "plt.xticks(rotation=90)\n",
    "top_20_importances.head(20)"
   ]
  },
  {
   "cell_type": "markdown",
   "metadata": {},
   "source": [
    "_____________________________________________"
   ]
  },
  {
   "cell_type": "markdown",
   "metadata": {},
   "source": [
    "<a id=\"section_amp\"></a> \n",
    "\n",
    "# <font color='skyblue'>7. Uso del modelo para predecir nuevos datos</font>\n",
    "\n",
    "[Volver](#section_toc)"
   ]
  },
  {
   "cell_type": "markdown",
   "metadata": {},
   "source": [
    "Vamos a evaluar nuestro modelo prediciendo valores de consumo para el caso de otros blocks. Ahora bien, no debemos perder de vista que <b>los distintos blocks presentan distintos patrones de consumo</b> (<b><u>ver notebook \"Desafio_Final Clustering\"</b></u>), por lo cual la capacidad predictiva de nuestro modelo entrenado en un único block puede perder eficacia, precisamente en función de esas diferencias."
   ]
  },
  {
   "cell_type": "markdown",
   "metadata": {},
   "source": [
    "<a id=\"section_random\"></a> \n",
    "### 7.1. 'Block' al azar\n",
    "\n",
    "[Volver](#section_toc)"
   ]
  },
  {
   "cell_type": "code",
   "execution_count": 40,
   "metadata": {},
   "outputs": [],
   "source": [
    "## Seleccionamos aleatoriamente un block del total (semilla fijada en 198)\n",
    "\n",
    "blocks = np.arange(0,111)\n",
    "#blocks = np.delete(blocks, selected_block)\n",
    "\n",
    "random_generator = np.random.default_rng(seed = 198)\n",
    "new_block = random_generator.choice(blocks).astype('str')"
   ]
  },
  {
   "cell_type": "code",
   "execution_count": 41,
   "metadata": {},
   "outputs": [
    {
     "data": {
      "text/plain": [
       "'44'"
      ]
     },
     "execution_count": 41,
     "metadata": {},
     "output_type": "execute_result"
    }
   ],
   "source": [
    "new_block"
   ]
  },
  {
   "cell_type": "code",
   "execution_count": 42,
   "metadata": {},
   "outputs": [],
   "source": [
    "## Importamos el .csv del block seleccionado\n",
    "\n",
    "data_location = 'data/halfhourly_dataset/halfhourly_dataset/block_%s.csv' % (new_block)\n",
    "block_data = pd.read_csv(data_location)"
   ]
  },
  {
   "cell_type": "code",
   "execution_count": 43,
   "metadata": {},
   "outputs": [],
   "source": [
    "## Realizamos las transformaciones necesarias para operar con el campo 'energy'.\n",
    "\n",
    "block_data['energy(kWh/hh)'] = block_data['energy(kWh/hh)'].replace(to_replace = 'Null', value = 0)\n",
    "block_data['energy(kWh/hh)'] = block_data['energy(kWh/hh)'].astype('float64')\n",
    "\n",
    "## Transformamos la columna 'tstp' a datetime y generamos nuevas columnas relacionadas a la fecha\n",
    "\n",
    "block_data['full_datetime'] = pd.to_datetime(block_data['tstp'])\n",
    "block_data['date'] = block_data['full_datetime'].dt.date\n",
    "block_data['year'] = block_data['full_datetime'].dt.year\n",
    "block_data['month'] = block_data['full_datetime'].dt.month\n",
    "block_data['week'] = block_data['full_datetime'].dt.week\n",
    "block_data['day_name'] = block_data['full_datetime'].dt.day_name()\n",
    "block_data['time'] = block_data['full_datetime'].dt.time\n",
    "block_data['hour'] = block_data['full_datetime'].dt.hour\n",
    "\n",
    "## Agrupamos la información para que quede en energía por hora (los .csv tiene registros cada media hora)\n",
    "\n",
    "block_data_hourly = block_data.groupby(['LCLid', 'date', 'year', 'month', 'week', 'day_name', 'hour'])['energy(kWh/hh)'].sum()\n",
    "block_data_hourly = block_data_hourly.reset_index()\n",
    "\n",
    "## Unimos el dataset sobre consumo de energía con los datos específicos de cada suministro\n",
    "\n",
    "df_block = block_data_hourly.merge(info_df, on = 'LCLid', how = 'left')\n",
    "\n",
    "## Unimos el dataset resultante con el que contiene variables climáticas\n",
    "\n",
    "df_block_full = df_block.merge(weather, on = ['date', 'hour'], how = 'left')\n",
    "\n",
    "## Unimos el dataset resultante con el listado de feriados, creando una dummie ('is_holiday') con valor 1 para los feriados.\n",
    "\n",
    "df_block_full['is_holiday'] = df_block_full['full_datetime'].isin(holidays['full_datetime'])\n",
    "\n",
    "## Limpiamos el resultado final, completando faltantes de clima y eliminando columnas redundantes\n",
    "\n",
    "df_block_full = df_block_full.sort_values(by = ['LCLid', 'date', 'year_x', 'month_x', 'week_x', 'day_name_x', 'hour'], ascending = True)\n",
    "df_block_full = df_block_full.fillna(axis = 0, method = 'bfill')\n",
    "df_block_full = df_block_full.drop(columns = ['date', 'full_datetime', 'year_y', 'month_y', 'week_y', 'day_name_y', 'minute', 'time', 'icon'])\n",
    "df_block_full = df_block_full.rename(mapper = {'energy(kWh/hh)' : 'energy', 'year_x' : 'year', 'month_x' : 'month', 'week_x' : 'week', 'day_name_x' : 'day_name'}, axis = 1)\n",
    "df_block_full['year'] = df_block_full['year'].astype('object')\n",
    "df_block_full['month'] = df_block_full['month'].astype('object')\n",
    "df_block_full['week'] = df_block_full['week'].astype('object')\n",
    "df_block_full['hour'] = df_block_full['hour'].astype('object')\n",
    "\n",
    "## Recortamos el análisis para el período posterior a 2012, cuando la cantidad de mediciones por cliente se estabilizó\n",
    "\n",
    "year_mask = df_block_full['year'] >= 2013\n",
    "df_block_full = df_block_full[year_mask]"
   ]
  },
  {
   "cell_type": "code",
   "execution_count": 44,
   "metadata": {},
   "outputs": [],
   "source": [
    "## A partir del dataset mergeado con todos los datos, obtenemos el consumo total del bloque a partir de un groupby\n",
    "## sin perder el resto de las variables incorporadas. Descartamos las variables propias de cliente al tratarse de\n",
    "## una muestra 'homogénea'.\n",
    "\n",
    "df_block_summary = df_block_full.groupby(['Acorn', 'block', 'year', 'month', 'week', 'day_name', 'hour',\n",
    "                                          'visibility','windBearing',\n",
    "                                          'temperature', 'dewPoint', 'pressure', 'apparentTemperature',\n",
    "                                          'windSpeed', 'precipType', 'humidity', 'summary', 'is_holiday'])['energy'].sum()\n",
    "df_block_summary = df_block_summary.reset_index()\n",
    "df_block_summary = df_block_summary.drop(columns = 'block')\n",
    "df_block_summary['is_holiday'] = df_block_summary['is_holiday'].astype('category')"
   ]
  },
  {
   "cell_type": "code",
   "execution_count": 45,
   "metadata": {},
   "outputs": [],
   "source": [
    "X_test_2 = df_block_summary.drop(columns = 'energy')\n",
    "y_test_2 = df_block_summary['energy']"
   ]
  },
  {
   "cell_type": "code",
   "execution_count": 46,
   "metadata": {},
   "outputs": [],
   "source": [
    "X_test_2_categorical = X_test_2[categorical]\n",
    "X_test_2_categorical = pd.DataFrame(encoder.transform(X_test_2_categorical), columns = encoder.get_feature_names(categorical))"
   ]
  },
  {
   "cell_type": "code",
   "execution_count": 47,
   "metadata": {},
   "outputs": [],
   "source": [
    "X_test_2_numerical = X_test_2[numerical]\n",
    "X_test_2_numerical = pd.DataFrame(scaler.transform(X_test_2_numerical), columns = X_test_numerical.columns)"
   ]
  },
  {
   "cell_type": "code",
   "execution_count": 48,
   "metadata": {},
   "outputs": [
    {
     "data": {
      "text/plain": [
       "((10153, 130), (10153, 122), (10153, 8), (10153,))"
      ]
     },
     "execution_count": 48,
     "metadata": {},
     "output_type": "execute_result"
    }
   ],
   "source": [
    "X_test_2 = pd.concat([X_test_2_categorical, X_test_2_numerical], axis = 1)\n",
    "X_test_2.shape, X_test_2_categorical.shape, X_test_2_numerical.shape, y_test_2.shape"
   ]
  },
  {
   "cell_type": "code",
   "execution_count": 49,
   "metadata": {},
   "outputs": [],
   "source": [
    "cat_testing_predictions_2 = cat.predict(X_test_2)"
   ]
  },
  {
   "cell_type": "code",
   "execution_count": 50,
   "metadata": {},
   "outputs": [
    {
     "name": "stdout",
     "output_type": "stream",
     "text": [
      "MAE:  2.272179949003543\n",
      "MSE:  8.548146955981442\n",
      "RMSE:  2.9237214224309134\n",
      "R^2:  0.8188838050754625\n"
     ]
    }
   ],
   "source": [
    "model_evaluation(y_test_2, cat_testing_predictions_2)"
   ]
  },
  {
   "cell_type": "code",
   "execution_count": 51,
   "metadata": {},
   "outputs": [
    {
     "data": {
      "image/png": "[encoded data removed]",
      "text/plain": [
       "<Figure size 432x288 with 1 Axes>"
      ]
     },
     "metadata": {
      "needs_background": "light"
     },
     "output_type": "display_data"
    },
    {
     "data": {
      "image/png": "[encoded data removed]",
      "text/plain": [
       "<Figure size 432x288 with 1 Axes>"
      ]
     },
     "metadata": {
      "needs_background": "light"
     },
     "output_type": "display_data"
    }
   ],
   "source": [
    "model_graph(y_test_2, cat_testing_predictions_2, 'CatBoost')"
   ]
  },
  {
   "cell_type": "markdown",
   "metadata": {},
   "source": [
    "Observamos que el aplicar el modelo en un block de distinta naturaleza reduce en cierta forma la performance predictiva de nuestro modelo. El block seleccionado aleatoriamente pertenece al cluster 4 de consumo, mientras el block original pertenece al cluster 3, con un consumo levemente mayor y también una dispersión poco por encima."
   ]
  },
  {
   "cell_type": "markdown",
   "metadata": {},
   "source": [
    "<a id=\"section_same\"></a> \n",
    "### 7.2. Evaluación del modelo sobre la totalidad de los datos\n",
    "\n",
    "[Volver](#section_toc)"
   ]
  },
  {
   "cell_type": "markdown",
   "metadata": {},
   "source": [
    "A continuación, tomaremos de referencia los distintos clusteres de consumo identificados, para evaluar si la performance se sostiene o el modelo está demasiado ajustado a los datos originales (overfitting).\n",
    "\n",
    "Para ello importamos el listado de blocks por cluster."
   ]
  },
  {
   "cell_type": "code",
   "execution_count": 52,
   "metadata": {},
   "outputs": [],
   "source": [
    "cluster_data_location = 'block_clustering.csv'\n",
    "block_clustering = pd.read_csv(cluster_data_location)"
   ]
  },
  {
   "cell_type": "markdown",
   "metadata": {},
   "source": [
    "### Cluster 3"
   ]
  },
  {
   "cell_type": "code",
   "execution_count": 53,
   "metadata": {},
   "outputs": [
    {
     "data": {
      "text/plain": [
       "array(['block_104', 'block_110', 'block_13', 'block_15', 'block_16',\n",
       "       'block_17', 'block_18', 'block_19', 'block_20', 'block_22',\n",
       "       'block_23', 'block_25', 'block_26', 'block_27', 'block_31',\n",
       "       'block_33', 'block_35', 'block_36', 'block_37', 'block_38',\n",
       "       'block_39', 'block_4', 'block_40', 'block_41', 'block_42',\n",
       "       'block_48', 'block_49', 'block_51', 'block_54', 'block_57',\n",
       "       'block_58', 'block_59', 'block_60', 'block_61', 'block_62',\n",
       "       'block_63', 'block_65', 'block_67', 'block_69', 'block_70',\n",
       "       'block_71', 'block_72', 'block_74', 'block_75', 'block_76',\n",
       "       'block_77', 'block_79', 'block_80', 'block_81', 'block_82',\n",
       "       'block_83', 'block_84', 'block_85', 'block_88', 'block_89'],\n",
       "      dtype=object)"
      ]
     },
     "execution_count": 53,
     "metadata": {},
     "output_type": "execute_result"
    }
   ],
   "source": [
    "cluster_3_mask = block_clustering['cluster'] == 3\n",
    "mask_training_set = np.isin(block_clustering['block'], blocks, invert = True)\n",
    "full_mask_cluster_3 = np.logical_and(cluster_3_mask, mask_training_set)\n",
    "cluster_3 = block_clustering[full_mask_cluster_3]\n",
    "list_cluster_3 = cluster_3['block'].values\n",
    "list_cluster_3"
   ]
  },
  {
   "cell_type": "code",
   "execution_count": 54,
   "metadata": {},
   "outputs": [
    {
     "name": "stdout",
     "output_type": "stream",
     "text": [
      "Predicción del block_104 completa\n",
      "Predicción del block_110 completa\n",
      "Predicción del block_13 completa\n",
      "Predicción del block_15 completa\n",
      "Predicción del block_16 completa\n",
      "Predicción del block_17 completa\n",
      "Predicción del block_18 completa\n",
      "Predicción del block_19 completa\n",
      "Predicción del block_20 completa\n",
      "Predicción del block_22 completa\n",
      "Predicción del block_23 completa\n",
      "Predicción del block_25 completa\n",
      "Predicción del block_26 completa\n",
      "Predicción del block_27 completa\n",
      "Predicción del block_31 completa\n",
      "Predicción del block_33 completa\n",
      "Predicción del block_35 completa\n",
      "Predicción del block_36 completa\n",
      "Predicción del block_37 completa\n",
      "Predicción del block_38 completa\n",
      "Predicción del block_39 completa\n",
      "Predicción del block_4 completa\n",
      "Predicción del block_40 completa\n",
      "Predicción del block_41 completa\n",
      "Predicción del block_42 completa\n",
      "Predicción del block_48 completa\n",
      "Predicción del block_49 completa\n",
      "Predicción del block_51 completa\n",
      "Predicción del block_54 completa\n",
      "Predicción del block_57 completa\n",
      "Predicción del block_58 completa\n",
      "Predicción del block_59 completa\n",
      "Predicción del block_60 completa\n",
      "Predicción del block_61 completa\n",
      "Predicción del block_62 completa\n",
      "Predicción del block_63 completa\n",
      "Predicción del block_65 completa\n",
      "Predicción del block_67 completa\n",
      "Predicción del block_69 completa\n",
      "Predicción del block_70 completa\n",
      "Predicción del block_71 completa\n",
      "Predicción del block_72 completa\n",
      "Predicción del block_74 completa\n",
      "Predicción del block_75 completa\n",
      "Predicción del block_76 completa\n",
      "Predicción del block_77 completa\n",
      "Predicción del block_79 completa\n",
      "Predicción del block_80 completa\n",
      "Predicción del block_81 completa\n",
      "Predicción del block_82 completa\n",
      "Predicción del block_83 completa\n",
      "Predicción del block_84 completa\n",
      "Predicción del block_85 completa\n",
      "Predicción del block_88 completa\n",
      "Predicción del block_89 completa\n",
      "----------------------------------------\n",
      "Todas las predicciones fueron realizadas\n"
     ]
    }
   ],
   "source": [
    "score_summary = []\n",
    "\n",
    "for i in list_cluster_3:\n",
    "\n",
    "    ## Importamos el .csv del block seleccionado\n",
    "\n",
    "    data_location = 'data/halfhourly_dataset/halfhourly_dataset/%s.csv' % (i)\n",
    "    block_data = pd.read_csv(data_location)\n",
    "\n",
    "    ## Realizamos las transformaciones necesarias para operar con el campo 'energy'.\n",
    "\n",
    "    block_data['energy(kWh/hh)'] = block_data['energy(kWh/hh)'].replace(to_replace = 'Null', value = 0)\n",
    "    block_data['energy(kWh/hh)'] = block_data['energy(kWh/hh)'].astype('float64')\n",
    "\n",
    "    ## Transformamos la columna 'tstp' a datetime y generamos nuevas columnas relacionadas a la fecha\n",
    "\n",
    "    block_data['full_datetime'] = pd.to_datetime(block_data['tstp'])\n",
    "    block_data['date'] = block_data['full_datetime'].dt.date\n",
    "    block_data['year'] = block_data['full_datetime'].dt.year\n",
    "    block_data['month'] = block_data['full_datetime'].dt.month\n",
    "    block_data['week'] = block_data['full_datetime'].dt.week\n",
    "    block_data['day_name'] = block_data['full_datetime'].dt.day_name()\n",
    "    block_data['time'] = block_data['full_datetime'].dt.time\n",
    "    block_data['hour'] = block_data['full_datetime'].dt.hour\n",
    "\n",
    "    ## Agrupamos la información para que quede en energía por hora (los .csv tiene registros cada media hora)\n",
    "\n",
    "    block_data_hourly = block_data.groupby(['LCLid', 'date', 'year', 'month', 'week', 'day_name', 'hour'])['energy(kWh/hh)'].sum()\n",
    "    block_data_hourly = block_data_hourly.reset_index()\n",
    "\n",
    "    ## Unimos el dataset sobre consumo de energía con los datos específicos de cada suministro\n",
    "\n",
    "    df_block = block_data_hourly.merge(info_df, on = 'LCLid', how = 'left')\n",
    "\n",
    "    ## Unimos el dataset resultante con el que contiene variables climáticas\n",
    "\n",
    "    df_block_full = df_block.merge(weather, on = ['date', 'hour'], how = 'left')\n",
    "\n",
    "    ## Unimos el dataset resultante con el listado de feriados, creando una dummie ('is_holiday') con valor 1 para los feriados.\n",
    "\n",
    "    df_block_full['is_holiday'] = df_block_full['full_datetime'].isin(holidays['full_datetime'])\n",
    "\n",
    "    ## Limpiamos el resultado final, completando faltantes de clima y eliminando columnas redundantes\n",
    "\n",
    "    df_block_full = df_block_full.sort_values(by = ['LCLid', 'date', 'year_x', 'month_x', 'week_x', 'day_name_x', 'hour'], ascending = True)\n",
    "    df_block_full = df_block_full.fillna(axis = 0, method = 'bfill')\n",
    "    df_block_full = df_block_full.drop(columns = ['date', 'full_datetime', 'year_y', 'month_y', 'week_y', 'day_name_y', 'minute', 'time', 'icon'])\n",
    "    df_block_full = df_block_full.rename(mapper = {'energy(kWh/hh)' : 'energy', 'year_x' : 'year', 'month_x' : 'month', 'week_x' : 'week', 'day_name_x' : 'day_name'}, axis = 1)\n",
    "    df_block_full['year'] = df_block_full['year'].astype('object')\n",
    "    df_block_full['month'] = df_block_full['month'].astype('object')\n",
    "    df_block_full['week'] = df_block_full['week'].astype('object')\n",
    "    df_block_full['hour'] = df_block_full['hour'].astype('object')\n",
    "\n",
    "    year_mask = df_block_full['year'] >= 2013\n",
    "    df_block_full = df_block_full[year_mask]\n",
    "\n",
    "    df_block_summary = df_block_full.groupby(['Acorn', 'block', 'year', 'month', 'week', 'day_name', 'hour',\n",
    "                                              'visibility','windBearing',\n",
    "                                              'temperature', 'dewPoint', 'pressure', 'apparentTemperature',\n",
    "                                              'windSpeed', 'precipType', 'humidity', 'summary', 'is_holiday'])['energy'].sum()\n",
    "    df_block_summary = df_block_summary.reset_index()\n",
    "    df_block_summary = df_block_summary.drop(columns = 'block')\n",
    "    df_block_summary['is_holiday'] = df_block_summary['is_holiday'].astype('category')\n",
    "\n",
    "    X_test_3 = df_block_summary.drop(columns = 'energy')\n",
    "    y_test_3 = df_block_summary['energy']\n",
    "\n",
    "    X_test_3_categorical = X_test_3[categorical]\n",
    "    X_test_3_categorical = pd.DataFrame(encoder.transform(X_test_3_categorical), columns = encoder.get_feature_names(categorical))\n",
    "\n",
    "    X_test_3_numerical = X_test_3[numerical]\n",
    "    X_test_3_numerical = pd.DataFrame(scaler.transform(X_test_3_numerical), columns = X_test_numerical.columns)\n",
    "\n",
    "    X_test_3 = pd.concat([X_test_3_categorical, X_test_3_numerical], axis = 1)\n",
    "    \n",
    "    y_pred = cat.predict(X_test_3)\n",
    "    \n",
    "    score = r2_score(y_test_3, y_pred)\n",
    "    rmse = np.sqrt(mean_squared_error(y_test_3, y_pred))\n",
    "\n",
    "    score_summary.append({'block' : i,\n",
    "                          'r2_score' : score,\n",
    "                          'rmse' : rmse,\n",
    "                          'Cluster' : 3})\n",
    "    \n",
    "    print('Predicción del', i, 'completa')\n",
    "print('----------------------------------------')\n",
    "print('Todas las predicciones fueron realizadas')"
   ]
  },
  {
   "cell_type": "markdown",
   "metadata": {},
   "source": [
    "### Cluster 1"
   ]
  },
  {
   "cell_type": "code",
   "execution_count": 55,
   "metadata": {},
   "outputs": [
    {
     "data": {
      "text/plain": [
       "array(['block_0', 'block_1', 'block_2'], dtype=object)"
      ]
     },
     "execution_count": 55,
     "metadata": {},
     "output_type": "execute_result"
    }
   ],
   "source": [
    "cluster_1_mask = block_clustering['cluster'] == 1\n",
    "mask_training_set = np.isin(block_clustering['block'], blocks, invert = True)\n",
    "full_mask_cluster_1 = np.logical_and(cluster_1_mask, mask_training_set)\n",
    "cluster_1 = block_clustering[full_mask_cluster_1]\n",
    "list_cluster_1 = cluster_1['block'].values\n",
    "list_cluster_1"
   ]
  },
  {
   "cell_type": "code",
   "execution_count": 56,
   "metadata": {},
   "outputs": [
    {
     "name": "stdout",
     "output_type": "stream",
     "text": [
      "Predicción del block_0 completa\n",
      "Predicción del block_1 completa\n",
      "Predicción del block_2 completa\n",
      "----------------------------------------\n",
      "Todas las predicciones fueron realizadas\n"
     ]
    }
   ],
   "source": [
    "for i in list_cluster_1:\n",
    "\n",
    "    ## Importamos el .csv del block seleccionado\n",
    "\n",
    "    data_location = 'data/halfhourly_dataset/halfhourly_dataset/%s.csv' % (i)\n",
    "    block_data = pd.read_csv(data_location)\n",
    "\n",
    "    ## Realizamos las transformaciones necesarias para operar con el campo 'energy'.\n",
    "\n",
    "    block_data['energy(kWh/hh)'] = block_data['energy(kWh/hh)'].replace(to_replace = 'Null', value = 0)\n",
    "    block_data['energy(kWh/hh)'] = block_data['energy(kWh/hh)'].astype('float64')\n",
    "\n",
    "    ## Transformamos la columna 'tstp' a datetime y generamos nuevas columnas relacionadas a la fecha\n",
    "\n",
    "    block_data['full_datetime'] = pd.to_datetime(block_data['tstp'])\n",
    "    block_data['date'] = block_data['full_datetime'].dt.date\n",
    "    block_data['year'] = block_data['full_datetime'].dt.year\n",
    "    block_data['month'] = block_data['full_datetime'].dt.month\n",
    "    block_data['week'] = block_data['full_datetime'].dt.week\n",
    "    block_data['day_name'] = block_data['full_datetime'].dt.day_name()\n",
    "    block_data['time'] = block_data['full_datetime'].dt.time\n",
    "    block_data['hour'] = block_data['full_datetime'].dt.hour\n",
    "\n",
    "    ## Agrupamos la información para que quede en energía por hora (los .csv tiene registros cada media hora)\n",
    "\n",
    "    block_data_hourly = block_data.groupby(['LCLid', 'date', 'year', 'month', 'week', 'day_name', 'hour'])['energy(kWh/hh)'].sum()\n",
    "    block_data_hourly = block_data_hourly.reset_index()\n",
    "\n",
    "    ## Unimos el dataset sobre consumo de energía con los datos específicos de cada suministro\n",
    "\n",
    "    df_block = block_data_hourly.merge(info_df, on = 'LCLid', how = 'left')\n",
    "\n",
    "    ## Unimos el dataset resultante con el que contiene variables climáticas\n",
    "\n",
    "    df_block_full = df_block.merge(weather, on = ['date', 'hour'], how = 'left')\n",
    "\n",
    "    ## Unimos el dataset resultante con el listado de feriados, creando una dummie ('is_holiday') con valor 1 para los feriados.\n",
    "\n",
    "    df_block_full['is_holiday'] = df_block_full['full_datetime'].isin(holidays['full_datetime'])\n",
    "\n",
    "    ## Limpiamos el resultado final, completando faltantes de clima y eliminando columnas redundantes\n",
    "\n",
    "    df_block_full = df_block_full.sort_values(by = ['LCLid', 'date', 'year_x', 'month_x', 'week_x', 'day_name_x', 'hour'], ascending = True)\n",
    "    df_block_full = df_block_full.fillna(axis = 0, method = 'bfill')\n",
    "    df_block_full = df_block_full.drop(columns = ['date', 'full_datetime', 'year_y', 'month_y', 'week_y', 'day_name_y', 'minute', 'time', 'icon'])\n",
    "    df_block_full = df_block_full.rename(mapper = {'energy(kWh/hh)' : 'energy', 'year_x' : 'year', 'month_x' : 'month', 'week_x' : 'week', 'day_name_x' : 'day_name'}, axis = 1)\n",
    "    df_block_full['year'] = df_block_full['year'].astype('object')\n",
    "    df_block_full['month'] = df_block_full['month'].astype('object')\n",
    "    df_block_full['week'] = df_block_full['week'].astype('object')\n",
    "    df_block_full['hour'] = df_block_full['hour'].astype('object')\n",
    "\n",
    "    year_mask = df_block_full['year'] >= 2013\n",
    "    df_block_full = df_block_full[year_mask]\n",
    "\n",
    "    df_block_summary = df_block_full.groupby(['Acorn', 'block', 'year', 'month', 'week', 'day_name', 'hour',\n",
    "                                              'visibility','windBearing',\n",
    "                                              'temperature', 'dewPoint', 'pressure', 'apparentTemperature',\n",
    "                                              'windSpeed', 'precipType', 'humidity', 'summary', 'is_holiday'])['energy'].sum()\n",
    "    df_block_summary = df_block_summary.reset_index()\n",
    "    df_block_summary = df_block_summary.drop(columns = 'block')\n",
    "    df_block_summary['is_holiday'] = df_block_summary['is_holiday'].astype('category')\n",
    "\n",
    "    X_test_3 = df_block_summary.drop(columns = 'energy')\n",
    "    y_test_3 = df_block_summary['energy']\n",
    "\n",
    "    X_test_3_categorical = X_test_3[categorical]\n",
    "    X_test_3_categorical = pd.DataFrame(encoder.transform(X_test_3_categorical), columns = encoder.get_feature_names(categorical))\n",
    "\n",
    "    X_test_3_numerical = X_test_3[numerical]\n",
    "    X_test_3_numerical = pd.DataFrame(scaler.transform(X_test_3_numerical), columns = X_test_numerical.columns)\n",
    "\n",
    "    X_test_3 = pd.concat([X_test_3_categorical, X_test_3_numerical], axis = 1)\n",
    "    \n",
    "    y_pred = cat.predict(X_test_3)\n",
    "    \n",
    "    score = r2_score(y_test_3, y_pred)\n",
    "    rmse = np.sqrt(mean_squared_error(y_test_3, y_pred))\n",
    "\n",
    "    score_summary.append({'block' : i,\n",
    "                          'r2_score' : score,\n",
    "                          'rmse' : rmse,\n",
    "                          'Cluster' : 1})\n",
    "    \n",
    "    print('Predicción del', i, 'completa')\n",
    "print('----------------------------------------')\n",
    "print('Todas las predicciones fueron realizadas')"
   ]
  },
  {
   "cell_type": "markdown",
   "metadata": {},
   "source": [
    "### Cluster 2"
   ]
  },
  {
   "cell_type": "code",
   "execution_count": 57,
   "metadata": {},
   "outputs": [
    {
     "data": {
      "text/plain": [
       "array(['block_10', 'block_11', 'block_111', 'block_12', 'block_14',\n",
       "       'block_24', 'block_28', 'block_29', 'block_3', 'block_30',\n",
       "       'block_34', 'block_5', 'block_6', 'block_66', 'block_68',\n",
       "       'block_7', 'block_73', 'block_8', 'block_9'], dtype=object)"
      ]
     },
     "execution_count": 57,
     "metadata": {},
     "output_type": "execute_result"
    }
   ],
   "source": [
    "cluster_2_mask = block_clustering['cluster'] == 2\n",
    "mask_training_set = np.isin(block_clustering['block'], blocks, invert = True)\n",
    "full_mask_cluster_2 = np.logical_and(cluster_2_mask, mask_training_set)\n",
    "cluster_2 = block_clustering[full_mask_cluster_2]\n",
    "list_cluster_2 = cluster_2['block'].values\n",
    "list_cluster_2"
   ]
  },
  {
   "cell_type": "code",
   "execution_count": 58,
   "metadata": {},
   "outputs": [
    {
     "name": "stdout",
     "output_type": "stream",
     "text": [
      "Predicción del block_10 completa\n",
      "Predicción del block_11 completa\n",
      "Predicción del block_111 completa\n",
      "Predicción del block_12 completa\n",
      "Predicción del block_14 completa\n",
      "Predicción del block_24 completa\n",
      "Predicción del block_28 completa\n",
      "Predicción del block_29 completa\n",
      "Predicción del block_3 completa\n",
      "Predicción del block_30 completa\n",
      "Predicción del block_34 completa\n",
      "Predicción del block_5 completa\n",
      "Predicción del block_6 completa\n",
      "Predicción del block_66 completa\n",
      "Predicción del block_68 completa\n",
      "Predicción del block_7 completa\n",
      "Predicción del block_73 completa\n",
      "Predicción del block_8 completa\n",
      "Predicción del block_9 completa\n",
      "----------------------------------------\n",
      "Todas las predicciones fueron realizadas\n"
     ]
    }
   ],
   "source": [
    "for i in list_cluster_2:\n",
    "\n",
    "    ## Importamos el .csv del block seleccionado\n",
    "\n",
    "    data_location = 'data/halfhourly_dataset/halfhourly_dataset/%s.csv' % (i)\n",
    "    block_data = pd.read_csv(data_location)\n",
    "\n",
    "    ## Realizamos las transformaciones necesarias para operar con el campo 'energy'.\n",
    "\n",
    "    block_data['energy(kWh/hh)'] = block_data['energy(kWh/hh)'].replace(to_replace = 'Null', value = 0)\n",
    "    block_data['energy(kWh/hh)'] = block_data['energy(kWh/hh)'].astype('float64')\n",
    "\n",
    "    ## Transformamos la columna 'tstp' a datetime y generamos nuevas columnas relacionadas a la fecha\n",
    "\n",
    "    block_data['full_datetime'] = pd.to_datetime(block_data['tstp'])\n",
    "    block_data['date'] = block_data['full_datetime'].dt.date\n",
    "    block_data['year'] = block_data['full_datetime'].dt.year\n",
    "    block_data['month'] = block_data['full_datetime'].dt.month\n",
    "    block_data['week'] = block_data['full_datetime'].dt.week\n",
    "    block_data['day_name'] = block_data['full_datetime'].dt.day_name()\n",
    "    block_data['time'] = block_data['full_datetime'].dt.time\n",
    "    block_data['hour'] = block_data['full_datetime'].dt.hour\n",
    "\n",
    "    ## Agrupamos la información para que quede en energía por hora (los .csv tiene registros cada media hora)\n",
    "\n",
    "    block_data_hourly = block_data.groupby(['LCLid', 'date', 'year', 'month', 'week', 'day_name', 'hour'])['energy(kWh/hh)'].sum()\n",
    "    block_data_hourly = block_data_hourly.reset_index()\n",
    "\n",
    "    ## Unimos el dataset sobre consumo de energía con los datos específicos de cada suministro\n",
    "\n",
    "    df_block = block_data_hourly.merge(info_df, on = 'LCLid', how = 'left')\n",
    "\n",
    "    ## Unimos el dataset resultante con el que contiene variables climáticas\n",
    "\n",
    "    df_block_full = df_block.merge(weather, on = ['date', 'hour'], how = 'left')\n",
    "\n",
    "    ## Unimos el dataset resultante con el listado de feriados, creando una dummie ('is_holiday') con valor 1 para los feriados.\n",
    "\n",
    "    df_block_full['is_holiday'] = df_block_full['full_datetime'].isin(holidays['full_datetime'])\n",
    "\n",
    "    ## Limpiamos el resultado final, completando faltantes de clima y eliminando columnas redundantes\n",
    "\n",
    "    df_block_full = df_block_full.sort_values(by = ['LCLid', 'date', 'year_x', 'month_x', 'week_x', 'day_name_x', 'hour'], ascending = True)\n",
    "    df_block_full = df_block_full.fillna(axis = 0, method = 'bfill')\n",
    "    df_block_full = df_block_full.drop(columns = ['date', 'full_datetime', 'year_y', 'month_y', 'week_y', 'day_name_y', 'minute', 'time', 'icon'])\n",
    "    df_block_full = df_block_full.rename(mapper = {'energy(kWh/hh)' : 'energy', 'year_x' : 'year', 'month_x' : 'month', 'week_x' : 'week', 'day_name_x' : 'day_name'}, axis = 1)\n",
    "    df_block_full['year'] = df_block_full['year'].astype('object')\n",
    "    df_block_full['month'] = df_block_full['month'].astype('object')\n",
    "    df_block_full['week'] = df_block_full['week'].astype('object')\n",
    "    df_block_full['hour'] = df_block_full['hour'].astype('object')\n",
    "\n",
    "    year_mask = df_block_full['year'] >= 2013\n",
    "    df_block_full = df_block_full[year_mask]\n",
    "\n",
    "    df_block_summary = df_block_full.groupby(['Acorn', 'block', 'year', 'month', 'week', 'day_name', 'hour',\n",
    "                                              'visibility','windBearing',\n",
    "                                              'temperature', 'dewPoint', 'pressure', 'apparentTemperature',\n",
    "                                              'windSpeed', 'precipType', 'humidity', 'summary', 'is_holiday'])['energy'].sum()\n",
    "    df_block_summary = df_block_summary.reset_index()\n",
    "    df_block_summary = df_block_summary.drop(columns = 'block')\n",
    "    df_block_summary['is_holiday'] = df_block_summary['is_holiday'].astype('category')\n",
    "\n",
    "    X_test_3 = df_block_summary.drop(columns = 'energy')\n",
    "    y_test_3 = df_block_summary['energy']\n",
    "\n",
    "    X_test_3_categorical = X_test_3[categorical]\n",
    "    X_test_3_categorical = pd.DataFrame(encoder.transform(X_test_3_categorical), columns = encoder.get_feature_names(categorical))\n",
    "\n",
    "    X_test_3_numerical = X_test_3[numerical]\n",
    "    X_test_3_numerical = pd.DataFrame(scaler.transform(X_test_3_numerical), columns = X_test_numerical.columns)\n",
    "\n",
    "    X_test_3 = pd.concat([X_test_3_categorical, X_test_3_numerical], axis = 1)\n",
    "    \n",
    "    y_pred = cat.predict(X_test_3)\n",
    "    \n",
    "    score = r2_score(y_test_3, y_pred)\n",
    "    rmse = np.sqrt(mean_squared_error(y_test_3, y_pred))\n",
    "\n",
    "    score_summary.append({'block' : i,\n",
    "                          'r2_score' : score,\n",
    "                          'rmse' : rmse,\n",
    "                          'Cluster' : 2})\n",
    "    \n",
    "    print('Predicción del', i, 'completa')\n",
    "print('----------------------------------------')\n",
    "print('Todas las predicciones fueron realizadas')"
   ]
  },
  {
   "cell_type": "markdown",
   "metadata": {},
   "source": [
    "### Cluster 4"
   ]
  },
  {
   "cell_type": "code",
   "execution_count": 59,
   "metadata": {},
   "outputs": [
    {
     "data": {
      "text/plain": [
       "array(['block_100', 'block_101', 'block_102', 'block_103', 'block_105',\n",
       "       'block_106', 'block_107', 'block_108', 'block_109', 'block_21',\n",
       "       'block_32', 'block_43', 'block_44', 'block_45', 'block_46',\n",
       "       'block_47', 'block_50', 'block_52', 'block_53', 'block_55',\n",
       "       'block_56', 'block_64', 'block_78', 'block_86', 'block_87',\n",
       "       'block_90', 'block_91', 'block_92', 'block_93', 'block_94',\n",
       "       'block_95', 'block_96', 'block_97', 'block_98', 'block_99'],\n",
       "      dtype=object)"
      ]
     },
     "execution_count": 59,
     "metadata": {},
     "output_type": "execute_result"
    }
   ],
   "source": [
    "cluster_4_mask = block_clustering['cluster'] == 4\n",
    "mask_training_set = np.isin(block_clustering['block'], blocks, invert = True)\n",
    "full_mask_cluster_4 = np.logical_and(cluster_4_mask, mask_training_set)\n",
    "cluster_4 = block_clustering[full_mask_cluster_4]\n",
    "list_cluster_4 = cluster_4['block'].values\n",
    "list_cluster_4"
   ]
  },
  {
   "cell_type": "code",
   "execution_count": 60,
   "metadata": {},
   "outputs": [
    {
     "name": "stdout",
     "output_type": "stream",
     "text": [
      "Predicción del block_100 completa\n",
      "Predicción del block_101 completa\n",
      "Predicción del block_102 completa\n",
      "Predicción del block_103 completa\n",
      "Predicción del block_105 completa\n",
      "Predicción del block_106 completa\n",
      "Predicción del block_107 completa\n",
      "Predicción del block_108 completa\n",
      "Predicción del block_109 completa\n",
      "Predicción del block_21 completa\n",
      "Predicción del block_32 completa\n",
      "Predicción del block_43 completa\n",
      "Predicción del block_44 completa\n",
      "Predicción del block_45 completa\n",
      "Predicción del block_46 completa\n",
      "Predicción del block_47 completa\n",
      "Predicción del block_50 completa\n",
      "Predicción del block_52 completa\n",
      "Predicción del block_53 completa\n",
      "Predicción del block_55 completa\n",
      "Predicción del block_56 completa\n",
      "Predicción del block_64 completa\n",
      "Predicción del block_78 completa\n",
      "Predicción del block_86 completa\n",
      "Predicción del block_87 completa\n",
      "Predicción del block_90 completa\n",
      "Predicción del block_91 completa\n",
      "Predicción del block_92 completa\n",
      "Predicción del block_93 completa\n",
      "Predicción del block_94 completa\n",
      "Predicción del block_95 completa\n",
      "Predicción del block_96 completa\n",
      "Predicción del block_97 completa\n",
      "Predicción del block_98 completa\n",
      "Predicción del block_99 completa\n",
      "----------------------------------------\n",
      "Todas las predicciones fueron realizadas\n"
     ]
    }
   ],
   "source": [
    "for i in list_cluster_4:\n",
    "\n",
    "    ## Importamos el .csv del block seleccionado\n",
    "\n",
    "    data_location = 'data/halfhourly_dataset/halfhourly_dataset/%s.csv' % (i)\n",
    "    block_data = pd.read_csv(data_location)\n",
    "\n",
    "    ## Realizamos las transformaciones necesarias para operar con el campo 'energy'.\n",
    "\n",
    "    block_data['energy(kWh/hh)'] = block_data['energy(kWh/hh)'].replace(to_replace = 'Null', value = 0)\n",
    "    block_data['energy(kWh/hh)'] = block_data['energy(kWh/hh)'].astype('float64')\n",
    "\n",
    "    ## Transformamos la columna 'tstp' a datetime y generamos nuevas columnas relacionadas a la fecha\n",
    "\n",
    "    block_data['full_datetime'] = pd.to_datetime(block_data['tstp'])\n",
    "    block_data['date'] = block_data['full_datetime'].dt.date\n",
    "    block_data['year'] = block_data['full_datetime'].dt.year\n",
    "    block_data['month'] = block_data['full_datetime'].dt.month\n",
    "    block_data['week'] = block_data['full_datetime'].dt.week\n",
    "    block_data['day_name'] = block_data['full_datetime'].dt.day_name()\n",
    "    block_data['time'] = block_data['full_datetime'].dt.time\n",
    "    block_data['hour'] = block_data['full_datetime'].dt.hour\n",
    "\n",
    "    ## Agrupamos la información para que quede en energía por hora (los .csv tiene registros cada media hora)\n",
    "\n",
    "    block_data_hourly = block_data.groupby(['LCLid', 'date', 'year', 'month', 'week', 'day_name', 'hour'])['energy(kWh/hh)'].sum()\n",
    "    block_data_hourly = block_data_hourly.reset_index()\n",
    "\n",
    "    ## Unimos el dataset sobre consumo de energía con los datos específicos de cada suministro\n",
    "\n",
    "    df_block = block_data_hourly.merge(info_df, on = 'LCLid', how = 'left')\n",
    "\n",
    "    ## Unimos el dataset resultante con el que contiene variables climáticas\n",
    "\n",
    "    df_block_full = df_block.merge(weather, on = ['date', 'hour'], how = 'left')\n",
    "\n",
    "    ## Unimos el dataset resultante con el listado de feriados, creando una dummie ('is_holiday') con valor 1 para los feriados.\n",
    "\n",
    "    df_block_full['is_holiday'] = df_block_full['full_datetime'].isin(holidays['full_datetime'])\n",
    "\n",
    "    ## Limpiamos el resultado final, completando faltantes de clima y eliminando columnas redundantes\n",
    "\n",
    "    df_block_full = df_block_full.sort_values(by = ['LCLid', 'date', 'year_x', 'month_x', 'week_x', 'day_name_x', 'hour'], ascending = True)\n",
    "    df_block_full = df_block_full.fillna(axis = 0, method = 'bfill')\n",
    "    df_block_full = df_block_full.drop(columns = ['date', 'full_datetime', 'year_y', 'month_y', 'week_y', 'day_name_y', 'minute', 'time', 'icon'])\n",
    "    df_block_full = df_block_full.rename(mapper = {'energy(kWh/hh)' : 'energy', 'year_x' : 'year', 'month_x' : 'month', 'week_x' : 'week', 'day_name_x' : 'day_name'}, axis = 1)\n",
    "    df_block_full['year'] = df_block_full['year'].astype('object')\n",
    "    df_block_full['month'] = df_block_full['month'].astype('object')\n",
    "    df_block_full['week'] = df_block_full['week'].astype('object')\n",
    "    df_block_full['hour'] = df_block_full['hour'].astype('object')\n",
    "\n",
    "    year_mask = df_block_full['year'] >= 2013\n",
    "    df_block_full = df_block_full[year_mask]\n",
    "\n",
    "    df_block_summary = df_block_full.groupby(['Acorn', 'block', 'year', 'month', 'week', 'day_name', 'hour',\n",
    "                                              'visibility','windBearing',\n",
    "                                              'temperature', 'dewPoint', 'pressure', 'apparentTemperature',\n",
    "                                              'windSpeed', 'precipType', 'humidity', 'summary', 'is_holiday'])['energy'].sum()\n",
    "    df_block_summary = df_block_summary.reset_index()\n",
    "    df_block_summary = df_block_summary.drop(columns = 'block')\n",
    "    df_block_summary['is_holiday'] = df_block_summary['is_holiday'].astype('category')\n",
    "\n",
    "    X_test_3 = df_block_summary.drop(columns = 'energy')\n",
    "    y_test_3 = df_block_summary['energy']\n",
    "\n",
    "    X_test_3_categorical = X_test_3[categorical]\n",
    "    X_test_3_categorical = pd.DataFrame(encoder.transform(X_test_3_categorical), columns = encoder.get_feature_names(categorical))\n",
    "\n",
    "    X_test_3_numerical = X_test_3[numerical]\n",
    "    X_test_3_numerical = pd.DataFrame(scaler.transform(X_test_3_numerical), columns = X_test_numerical.columns)\n",
    "\n",
    "    X_test_3 = pd.concat([X_test_3_categorical, X_test_3_numerical], axis = 1)\n",
    "    \n",
    "    y_pred = cat.predict(X_test_3)\n",
    "    \n",
    "    score = r2_score(y_test_3, y_pred)\n",
    "    rmse = np.sqrt(mean_squared_error(y_test_3, y_pred))\n",
    "\n",
    "    score_summary.append({'block' : i,\n",
    "                          'r2_score' : score,\n",
    "                          'rmse' : rmse,\n",
    "                          'Cluster' : 4})\n",
    "    \n",
    "    print('Predicción del', i, 'completa')\n",
    "print('----------------------------------------')\n",
    "print('Todas las predicciones fueron realizadas')"
   ]
  },
  {
   "cell_type": "markdown",
   "metadata": {},
   "source": [
    "## Performance del Modelo por Cluster de Consumo"
   ]
  },
  {
   "cell_type": "code",
   "execution_count": 61,
   "metadata": {},
   "outputs": [
    {
     "data": {
      "image/png": "[encoded data removed]",
      "text/plain": [
       "<Figure size 432x288 with 1 Axes>"
      ]
     },
     "metadata": {
      "needs_background": "light"
     },
     "output_type": "display_data"
    }
   ],
   "source": [
    "summary = pd.DataFrame(score_summary)\n",
    "\n",
    "plt.figure()\n",
    "g = sns.boxplot(x = summary['Cluster'], y = summary['r2_score'])\n",
    "g.set_title('Scores de Predicción según Cluster de Consumo', fontsize = 15)\n",
    "g.set_ylim([0,1])\n",
    "plt.show()"
   ]
  },
  {
   "cell_type": "markdown",
   "metadata": {},
   "source": [
    "A partir del gráfico podemos observar que la performance del modelo tiene un rendimiento positivo para blocks del mismo cluster, pero su rendimiento tiende a bajar para otros perfiles de consumo, en algunos casos de manera considerable (caso del Cluster 1, de mayor consumo)."
   ]
  },
  {
   "cell_type": "code",
   "execution_count": 62,
   "metadata": {},
   "outputs": [
    {
     "data": {
      "text/html": [
       "<div>\n",
       "<style scoped>\n",
       "    .dataframe tbody tr th:only-of-type {\n",
       "        vertical-align: middle;\n",
       "    }\n",
       "\n",
       "    .dataframe tbody tr th {\n",
       "        vertical-align: top;\n",
       "    }\n",
       "\n",
       "    .dataframe thead th {\n",
       "        text-align: right;\n",
       "    }\n",
       "</style>\n",
       "<table border=\"1\" class=\"dataframe\">\n",
       "  <thead>\n",
       "    <tr style=\"text-align: right;\">\n",
       "      <th></th>\n",
       "      <th>Cluster</th>\n",
       "      <th>block_count</th>\n",
       "      <th>mean_r2</th>\n",
       "      <th>median_r2</th>\n",
       "      <th>mean_rmse</th>\n",
       "      <th>median_rmse</th>\n",
       "    </tr>\n",
       "  </thead>\n",
       "  <tbody>\n",
       "    <tr>\n",
       "      <th>0</th>\n",
       "      <td>1</td>\n",
       "      <td>3</td>\n",
       "      <td>-0.422379</td>\n",
       "      <td>-0.450038</td>\n",
       "      <td>17.489718</td>\n",
       "      <td>19.030501</td>\n",
       "    </tr>\n",
       "    <tr>\n",
       "      <th>1</th>\n",
       "      <td>2</td>\n",
       "      <td>19</td>\n",
       "      <td>-0.406773</td>\n",
       "      <td>0.375863</td>\n",
       "      <td>7.890762</td>\n",
       "      <td>7.069877</td>\n",
       "    </tr>\n",
       "    <tr>\n",
       "      <th>2</th>\n",
       "      <td>3</td>\n",
       "      <td>55</td>\n",
       "      <td>0.332775</td>\n",
       "      <td>0.757527</td>\n",
       "      <td>5.096263</td>\n",
       "      <td>4.209724</td>\n",
       "    </tr>\n",
       "    <tr>\n",
       "      <th>3</th>\n",
       "      <td>4</td>\n",
       "      <td>35</td>\n",
       "      <td>-0.149762</td>\n",
       "      <td>0.148014</td>\n",
       "      <td>5.033176</td>\n",
       "      <td>4.902355</td>\n",
       "    </tr>\n",
       "  </tbody>\n",
       "</table>\n",
       "</div>"
      ],
      "text/plain": [
       "   Cluster  block_count   mean_r2  median_r2  mean_rmse  median_rmse\n",
       "0        1            3 -0.422379  -0.450038  17.489718    19.030501\n",
       "1        2           19 -0.406773   0.375863   7.890762     7.069877\n",
       "2        3           55  0.332775   0.757527   5.096263     4.209724\n",
       "3        4           35 -0.149762   0.148014   5.033176     4.902355"
      ]
     },
     "execution_count": 62,
     "metadata": {},
     "output_type": "execute_result"
    }
   ],
   "source": [
    "cluster_count = summary.groupby('Cluster')['block'].count()\n",
    "cluster_count = cluster_count.rename(index = 'block_count')\n",
    "cluster_mean_r2 = summary.groupby('Cluster')['r2_score'].mean()\n",
    "cluster_mean_r2 = cluster_mean_r2.rename(index = 'mean_r2')\n",
    "cluster_median_r2 = summary.groupby('Cluster')['r2_score'].median()\n",
    "cluster_median_r2 = cluster_median_r2.rename(index = 'median_r2')\n",
    "cluster_mean_rmse = summary.groupby('Cluster')['rmse'].mean()\n",
    "cluster_mean_rmse = cluster_mean_rmse.rename(index = 'mean_rmse')\n",
    "cluster_median_rmse = summary.groupby('Cluster')['rmse'].median()\n",
    "cluster_median_rmse = cluster_median_rmse.rename(index = 'median_rmse')\n",
    "cluster_summary = pd.concat([cluster_count, cluster_mean_r2, cluster_median_r2, cluster_mean_rmse, cluster_median_rmse], axis = 1)\n",
    "cluster_summary = cluster_summary.reset_index()\n",
    "cluster_summary"
   ]
  },
  {
   "cell_type": "code",
   "execution_count": 63,
   "metadata": {},
   "outputs": [
    {
     "data": {
      "text/plain": [
       "0.6624240793752136"
      ]
     },
     "execution_count": 63,
     "metadata": {},
     "output_type": "execute_result"
    }
   ],
   "source": [
    "summary['r2_score'].median()"
   ]
  },
  {
   "cell_type": "code",
   "execution_count": 64,
   "metadata": {},
   "outputs": [
    {
     "data": {
      "text/plain": [
       "4.532184393373235"
      ]
     },
     "execution_count": 64,
     "metadata": {},
     "output_type": "execute_result"
    }
   ],
   "source": [
    "summary['rmse'].median()"
   ]
  },
  {
   "cell_type": "markdown",
   "metadata": {},
   "source": [
    "Con un resumen de los resultados, podemos ver que el modelo puede ser aplicable a ciertos blocks de otros clusters(ver valores máximos para cluster 1 y cluster 3), logrando un desempeño aceptable. Del análisis previo de Clusters se observa que estos tres agrupamientos no son tan disímiles entre sí, cómo si lo es el cluster 1."
   ]
  },
  {
   "cell_type": "raw",
   "metadata": {},
   "source": [
    "summary.to_csv('catboost_model/results/summary_exp3_4.csv')"
   ]
  },
  {
   "cell_type": "raw",
   "metadata": {},
   "source": [
    "blocks = pd.DataFrame(blocks)\n",
    "blocks.to_csv('catboost_model/samples/block_list_exp3_4.csv')"
   ]
  }
 ],
 "metadata": {
  "kernelspec": {
   "display_name": "Python 3",
   "language": "python",
   "name": "python3"
  },
  "language_info": {
   "codemirror_mode": {
    "name": "ipython",
    "version": 3
   },
   "file_extension": ".py",
   "mimetype": "text/x-python",
   "name": "python",
   "nbconvert_exporter": "python",
   "pygments_lexer": "ipython3",
   "version": "3.7.7"
  }
 },
 "nbformat": 4,
 "nbformat_minor": 4
}
